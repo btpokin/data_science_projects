{
  "nbformat": 4,
  "nbformat_minor": 0,
  "metadata": {
    "colab": {
      "name": "gamereviewandsalesdata.ipynb",
      "provenance": [],
      "collapsed_sections": []
    },
    "kernelspec": {
      "name": "python3",
      "display_name": "Python 3"
    }
  },
  "cells": [
    {
      "cell_type": "code",
      "metadata": {
        "id": "Rg2b4th_M-vY",
        "colab_type": "code",
        "outputId": "2bb2450c-1fc5-4eb4-8d18-03d8d72ddb71",
        "colab": {
          "base_uri": "https://localhost:8080/",
          "height": 122
        }
      },
      "source": [
        "from google.colab import drive\n",
        "drive.mount('/content/drive')"
      ],
      "execution_count": 0,
      "outputs": [
        {
          "output_type": "stream",
          "text": [
            "Go to this URL in a browser: https://accounts.google.com/o/oauth2/auth?client_id=947318989803-6bn6qk8qdgf4n4g3pfee6491hc0brc4i.apps.googleusercontent.com&redirect_uri=urn%3aietf%3awg%3aoauth%3a2.0%3aoob&response_type=code&scope=email%20https%3a%2f%2fwww.googleapis.com%2fauth%2fdocs.test%20https%3a%2f%2fwww.googleapis.com%2fauth%2fdrive%20https%3a%2f%2fwww.googleapis.com%2fauth%2fdrive.photos.readonly%20https%3a%2f%2fwww.googleapis.com%2fauth%2fpeopleapi.readonly\n",
            "\n",
            "Enter your authorization code:\n",
            "··········\n",
            "Mounted at /content/drive\n"
          ],
          "name": "stdout"
        }
      ]
    },
    {
      "cell_type": "code",
      "metadata": {
        "id": "J_k8lOVHRya-",
        "colab_type": "code",
        "outputId": "a0d6e6f5-1a3f-4cee-e711-63046087b07e",
        "colab": {
          "base_uri": "https://localhost:8080/",
          "height": 71
        }
      },
      "source": [
        "#data analysis libraries \n",
        "import numpy as np\n",
        "import pandas as pd\n",
        "import io\n",
        "import math\n",
        "from scipy import stats\n",
        "\n",
        "#visualization libraries\n",
        "import matplotlib.pyplot as plt\n",
        "import seaborn as sns\n",
        "%matplotlib inline\n",
        "\n",
        "#ignore warnings\n",
        "import warnings\n",
        "warnings.filterwarnings('ignore')\n",
        "\n",
        "#data retrieved from: https://www.kaggle.com/rush4ratio/video-game-sales-with-ratings\n",
        "df = pd.read_csv('/content/drive/My Drive/GamesSalesandReview/Video_Games_Sales_as_at_22_Dec_2016.csv')"
      ],
      "execution_count": 0,
      "outputs": [
        {
          "output_type": "stream",
          "text": [
            "/usr/local/lib/python3.6/dist-packages/statsmodels/tools/_testing.py:19: FutureWarning: pandas.util.testing is deprecated. Use the functions in the public API at pandas.testing instead.\n",
            "  import pandas.util.testing as tm\n"
          ],
          "name": "stderr"
        }
      ]
    },
    {
      "cell_type": "code",
      "metadata": {
        "id": "wWi1NGCRSNs5",
        "colab_type": "code",
        "outputId": "b756b2a9-1607-4f1b-891b-6551fa112b2f",
        "colab": {
          "base_uri": "https://localhost:8080/",
          "height": 408
        }
      },
      "source": [
        "#Preliminary information\n",
        "df.info()"
      ],
      "execution_count": 0,
      "outputs": [
        {
          "output_type": "stream",
          "text": [
            "<class 'pandas.core.frame.DataFrame'>\n",
            "RangeIndex: 16719 entries, 0 to 16718\n",
            "Data columns (total 16 columns):\n",
            " #   Column           Non-Null Count  Dtype  \n",
            "---  ------           --------------  -----  \n",
            " 0   Name             16717 non-null  object \n",
            " 1   Platform         16719 non-null  object \n",
            " 2   Year_of_Release  16450 non-null  float64\n",
            " 3   Genre            16717 non-null  object \n",
            " 4   Publisher        16665 non-null  object \n",
            " 5   NA_Sales         16719 non-null  float64\n",
            " 6   EU_Sales         16719 non-null  float64\n",
            " 7   JP_Sales         16719 non-null  float64\n",
            " 8   Other_Sales      16719 non-null  float64\n",
            " 9   Global_Sales     16719 non-null  float64\n",
            " 10  Critic_Score     8137 non-null   float64\n",
            " 11  Critic_Count     8137 non-null   float64\n",
            " 12  User_Score       10015 non-null  object \n",
            " 13  User_Count       7590 non-null   float64\n",
            " 14  Developer        10096 non-null  object \n",
            " 15  Rating           9950 non-null   object \n",
            "dtypes: float64(9), object(7)\n",
            "memory usage: 2.0+ MB\n"
          ],
          "name": "stdout"
        }
      ]
    },
    {
      "cell_type": "code",
      "metadata": {
        "id": "qTkHyR4cSPlV",
        "colab_type": "code",
        "outputId": "b79e5246-104a-4704-a9f0-d6bd8206135f",
        "colab": {
          "base_uri": "https://localhost:8080/",
          "height": 306
        }
      },
      "source": [
        "df.dtypes"
      ],
      "execution_count": 0,
      "outputs": [
        {
          "output_type": "execute_result",
          "data": {
            "text/plain": [
              "Name                object\n",
              "Platform            object\n",
              "Year_of_Release    float64\n",
              "Genre               object\n",
              "Publisher           object\n",
              "NA_Sales           float64\n",
              "EU_Sales           float64\n",
              "JP_Sales           float64\n",
              "Other_Sales        float64\n",
              "Global_Sales       float64\n",
              "Critic_Score       float64\n",
              "Critic_Count       float64\n",
              "User_Score          object\n",
              "User_Count         float64\n",
              "Developer           object\n",
              "Rating              object\n",
              "dtype: object"
            ]
          },
          "metadata": {
            "tags": []
          },
          "execution_count": 6
        }
      ]
    },
    {
      "cell_type": "code",
      "metadata": {
        "id": "B620CBuOod4g",
        "colab_type": "code",
        "outputId": "d0001fdb-a73c-4dd9-a875-d0c752c313bf",
        "colab": {
          "base_uri": "https://localhost:8080/",
          "height": 204
        }
      },
      "source": [
        "df['User_Score'].unique()"
      ],
      "execution_count": 0,
      "outputs": [
        {
          "output_type": "execute_result",
          "data": {
            "text/plain": [
              "array(['8', nan, '8.3', '8.5', '6.6', '8.4', '8.6', '7.7', '6.3', '7.4',\n",
              "       '8.2', '9', '7.9', '8.1', '8.7', '7.1', '3.4', '5.3', '4.8', '3.2',\n",
              "       '8.9', '6.4', '7.8', '7.5', '2.6', '7.2', '9.2', '7', '7.3', '4.3',\n",
              "       '7.6', '5.7', '5', '9.1', '6.5', 'tbd', '8.8', '6.9', '9.4', '6.8',\n",
              "       '6.1', '6.7', '5.4', '4', '4.9', '4.5', '9.3', '6.2', '4.2', '6',\n",
              "       '3.7', '4.1', '5.8', '5.6', '5.5', '4.4', '4.6', '5.9', '3.9',\n",
              "       '3.1', '2.9', '5.2', '3.3', '4.7', '5.1', '3.5', '2.5', '1.9', '3',\n",
              "       '2.7', '2.2', '2', '9.5', '2.1', '3.6', '2.8', '1.8', '3.8', '0',\n",
              "       '1.6', '9.6', '2.4', '1.7', '1.1', '0.3', '1.5', '0.7', '1.2',\n",
              "       '2.3', '0.5', '1.3', '0.2', '0.6', '1.4', '0.9', '1', '9.7'],\n",
              "      dtype=object)"
            ]
          },
          "metadata": {
            "tags": []
          },
          "execution_count": 7
        }
      ]
    },
    {
      "cell_type": "code",
      "metadata": {
        "id": "t-U1Vdqio2aW",
        "colab_type": "code",
        "outputId": "b6531065-5136-4ce6-da6d-c22656779a16",
        "colab": {
          "base_uri": "https://localhost:8080/",
          "height": 394
        }
      },
      "source": [
        "df[df['User_Score'] == 'tbd'].head()"
      ],
      "execution_count": 0,
      "outputs": [
        {
          "output_type": "execute_result",
          "data": {
            "text/html": [
              "<div>\n",
              "<style scoped>\n",
              "    .dataframe tbody tr th:only-of-type {\n",
              "        vertical-align: middle;\n",
              "    }\n",
              "\n",
              "    .dataframe tbody tr th {\n",
              "        vertical-align: top;\n",
              "    }\n",
              "\n",
              "    .dataframe thead th {\n",
              "        text-align: right;\n",
              "    }\n",
              "</style>\n",
              "<table border=\"1\" class=\"dataframe\">\n",
              "  <thead>\n",
              "    <tr style=\"text-align: right;\">\n",
              "      <th></th>\n",
              "      <th>Name</th>\n",
              "      <th>Platform</th>\n",
              "      <th>Year_of_Release</th>\n",
              "      <th>Genre</th>\n",
              "      <th>Publisher</th>\n",
              "      <th>NA_Sales</th>\n",
              "      <th>EU_Sales</th>\n",
              "      <th>JP_Sales</th>\n",
              "      <th>Other_Sales</th>\n",
              "      <th>Global_Sales</th>\n",
              "      <th>Critic_Score</th>\n",
              "      <th>Critic_Count</th>\n",
              "      <th>User_Score</th>\n",
              "      <th>User_Count</th>\n",
              "      <th>Developer</th>\n",
              "      <th>Rating</th>\n",
              "    </tr>\n",
              "  </thead>\n",
              "  <tbody>\n",
              "    <tr>\n",
              "      <th>119</th>\n",
              "      <td>Zumba Fitness</td>\n",
              "      <td>Wii</td>\n",
              "      <td>2010.0</td>\n",
              "      <td>Sports</td>\n",
              "      <td>505 Games</td>\n",
              "      <td>3.45</td>\n",
              "      <td>2.59</td>\n",
              "      <td>0.0</td>\n",
              "      <td>0.66</td>\n",
              "      <td>6.71</td>\n",
              "      <td>NaN</td>\n",
              "      <td>NaN</td>\n",
              "      <td>tbd</td>\n",
              "      <td>NaN</td>\n",
              "      <td>Pipeworks Software, Inc.</td>\n",
              "      <td>E</td>\n",
              "    </tr>\n",
              "    <tr>\n",
              "      <th>301</th>\n",
              "      <td>Namco Museum: 50th Anniversary</td>\n",
              "      <td>PS2</td>\n",
              "      <td>2005.0</td>\n",
              "      <td>Misc</td>\n",
              "      <td>Namco Bandai Games</td>\n",
              "      <td>2.08</td>\n",
              "      <td>1.35</td>\n",
              "      <td>0.0</td>\n",
              "      <td>0.54</td>\n",
              "      <td>3.98</td>\n",
              "      <td>61.0</td>\n",
              "      <td>21.0</td>\n",
              "      <td>tbd</td>\n",
              "      <td>NaN</td>\n",
              "      <td>Digital Eclipse</td>\n",
              "      <td>E10+</td>\n",
              "    </tr>\n",
              "    <tr>\n",
              "      <th>520</th>\n",
              "      <td>Zumba Fitness 2</td>\n",
              "      <td>Wii</td>\n",
              "      <td>2011.0</td>\n",
              "      <td>Sports</td>\n",
              "      <td>Majesco Entertainment</td>\n",
              "      <td>1.51</td>\n",
              "      <td>1.03</td>\n",
              "      <td>0.0</td>\n",
              "      <td>0.27</td>\n",
              "      <td>2.81</td>\n",
              "      <td>NaN</td>\n",
              "      <td>NaN</td>\n",
              "      <td>tbd</td>\n",
              "      <td>NaN</td>\n",
              "      <td>Majesco Games, Majesco</td>\n",
              "      <td>T</td>\n",
              "    </tr>\n",
              "    <tr>\n",
              "      <th>645</th>\n",
              "      <td>uDraw Studio</td>\n",
              "      <td>Wii</td>\n",
              "      <td>2010.0</td>\n",
              "      <td>Misc</td>\n",
              "      <td>THQ</td>\n",
              "      <td>1.65</td>\n",
              "      <td>0.57</td>\n",
              "      <td>0.0</td>\n",
              "      <td>0.20</td>\n",
              "      <td>2.42</td>\n",
              "      <td>71.0</td>\n",
              "      <td>9.0</td>\n",
              "      <td>tbd</td>\n",
              "      <td>NaN</td>\n",
              "      <td>THQ</td>\n",
              "      <td>E</td>\n",
              "    </tr>\n",
              "    <tr>\n",
              "      <th>657</th>\n",
              "      <td>Frogger's Adventures: Temple of the Frog</td>\n",
              "      <td>GBA</td>\n",
              "      <td>NaN</td>\n",
              "      <td>Adventure</td>\n",
              "      <td>Konami Digital Entertainment</td>\n",
              "      <td>2.15</td>\n",
              "      <td>0.18</td>\n",
              "      <td>0.0</td>\n",
              "      <td>0.07</td>\n",
              "      <td>2.39</td>\n",
              "      <td>73.0</td>\n",
              "      <td>4.0</td>\n",
              "      <td>tbd</td>\n",
              "      <td>NaN</td>\n",
              "      <td>Konami Computer Entertainment Hawaii</td>\n",
              "      <td>E</td>\n",
              "    </tr>\n",
              "  </tbody>\n",
              "</table>\n",
              "</div>"
            ],
            "text/plain": [
              "                                         Name  ... Rating\n",
              "119                             Zumba Fitness  ...      E\n",
              "301            Namco Museum: 50th Anniversary  ...   E10+\n",
              "520                           Zumba Fitness 2  ...      T\n",
              "645                              uDraw Studio  ...      E\n",
              "657  Frogger's Adventures: Temple of the Frog  ...      E\n",
              "\n",
              "[5 rows x 16 columns]"
            ]
          },
          "metadata": {
            "tags": []
          },
          "execution_count": 8
        }
      ]
    },
    {
      "cell_type": "code",
      "metadata": {
        "id": "xH85B2Mv9Lcf",
        "colab_type": "code",
        "outputId": "49a8d8de-5587-41fc-cb8a-c401f67c3c50",
        "colab": {
          "base_uri": "https://localhost:8080/",
          "height": 592
        }
      },
      "source": [
        "df.sort_values(by='Year_of_Release')"
      ],
      "execution_count": 0,
      "outputs": [
        {
          "output_type": "execute_result",
          "data": {
            "text/html": [
              "<div>\n",
              "<style scoped>\n",
              "    .dataframe tbody tr th:only-of-type {\n",
              "        vertical-align: middle;\n",
              "    }\n",
              "\n",
              "    .dataframe tbody tr th {\n",
              "        vertical-align: top;\n",
              "    }\n",
              "\n",
              "    .dataframe thead th {\n",
              "        text-align: right;\n",
              "    }\n",
              "</style>\n",
              "<table border=\"1\" class=\"dataframe\">\n",
              "  <thead>\n",
              "    <tr style=\"text-align: right;\">\n",
              "      <th></th>\n",
              "      <th>Name</th>\n",
              "      <th>Platform</th>\n",
              "      <th>Year_of_Release</th>\n",
              "      <th>Genre</th>\n",
              "      <th>Publisher</th>\n",
              "      <th>NA_Sales</th>\n",
              "      <th>EU_Sales</th>\n",
              "      <th>JP_Sales</th>\n",
              "      <th>Other_Sales</th>\n",
              "      <th>Global_Sales</th>\n",
              "      <th>Critic_Score</th>\n",
              "      <th>Critic_Count</th>\n",
              "      <th>User_Score</th>\n",
              "      <th>User_Count</th>\n",
              "      <th>Developer</th>\n",
              "      <th>Rating</th>\n",
              "    </tr>\n",
              "  </thead>\n",
              "  <tbody>\n",
              "    <tr>\n",
              "      <th>262</th>\n",
              "      <td>Asteroids</td>\n",
              "      <td>2600</td>\n",
              "      <td>1980.0</td>\n",
              "      <td>Shooter</td>\n",
              "      <td>Atari</td>\n",
              "      <td>4.00</td>\n",
              "      <td>0.26</td>\n",
              "      <td>0.0</td>\n",
              "      <td>0.05</td>\n",
              "      <td>4.31</td>\n",
              "      <td>NaN</td>\n",
              "      <td>NaN</td>\n",
              "      <td>NaN</td>\n",
              "      <td>NaN</td>\n",
              "      <td>NaN</td>\n",
              "      <td>NaN</td>\n",
              "    </tr>\n",
              "    <tr>\n",
              "      <th>5360</th>\n",
              "      <td>Freeway</td>\n",
              "      <td>2600</td>\n",
              "      <td>1980.0</td>\n",
              "      <td>Action</td>\n",
              "      <td>Activision</td>\n",
              "      <td>0.32</td>\n",
              "      <td>0.02</td>\n",
              "      <td>0.0</td>\n",
              "      <td>0.00</td>\n",
              "      <td>0.34</td>\n",
              "      <td>NaN</td>\n",
              "      <td>NaN</td>\n",
              "      <td>NaN</td>\n",
              "      <td>NaN</td>\n",
              "      <td>NaN</td>\n",
              "      <td>NaN</td>\n",
              "    </tr>\n",
              "    <tr>\n",
              "      <th>546</th>\n",
              "      <td>Missile Command</td>\n",
              "      <td>2600</td>\n",
              "      <td>1980.0</td>\n",
              "      <td>Shooter</td>\n",
              "      <td>Atari</td>\n",
              "      <td>2.56</td>\n",
              "      <td>0.17</td>\n",
              "      <td>0.0</td>\n",
              "      <td>0.03</td>\n",
              "      <td>2.76</td>\n",
              "      <td>NaN</td>\n",
              "      <td>NaN</td>\n",
              "      <td>NaN</td>\n",
              "      <td>NaN</td>\n",
              "      <td>NaN</td>\n",
              "      <td>NaN</td>\n",
              "    </tr>\n",
              "    <tr>\n",
              "      <th>2650</th>\n",
              "      <td>Boxing</td>\n",
              "      <td>2600</td>\n",
              "      <td>1980.0</td>\n",
              "      <td>Fighting</td>\n",
              "      <td>Activision</td>\n",
              "      <td>0.72</td>\n",
              "      <td>0.04</td>\n",
              "      <td>0.0</td>\n",
              "      <td>0.01</td>\n",
              "      <td>0.77</td>\n",
              "      <td>NaN</td>\n",
              "      <td>NaN</td>\n",
              "      <td>NaN</td>\n",
              "      <td>NaN</td>\n",
              "      <td>NaN</td>\n",
              "      <td>NaN</td>\n",
              "    </tr>\n",
              "    <tr>\n",
              "      <th>4019</th>\n",
              "      <td>Ice Hockey</td>\n",
              "      <td>2600</td>\n",
              "      <td>1980.0</td>\n",
              "      <td>Sports</td>\n",
              "      <td>Activision</td>\n",
              "      <td>0.46</td>\n",
              "      <td>0.03</td>\n",
              "      <td>0.0</td>\n",
              "      <td>0.01</td>\n",
              "      <td>0.49</td>\n",
              "      <td>NaN</td>\n",
              "      <td>NaN</td>\n",
              "      <td>NaN</td>\n",
              "      <td>NaN</td>\n",
              "      <td>NaN</td>\n",
              "      <td>NaN</td>\n",
              "    </tr>\n",
              "    <tr>\n",
              "      <th>...</th>\n",
              "      <td>...</td>\n",
              "      <td>...</td>\n",
              "      <td>...</td>\n",
              "      <td>...</td>\n",
              "      <td>...</td>\n",
              "      <td>...</td>\n",
              "      <td>...</td>\n",
              "      <td>...</td>\n",
              "      <td>...</td>\n",
              "      <td>...</td>\n",
              "      <td>...</td>\n",
              "      <td>...</td>\n",
              "      <td>...</td>\n",
              "      <td>...</td>\n",
              "      <td>...</td>\n",
              "      <td>...</td>\n",
              "    </tr>\n",
              "    <tr>\n",
              "      <th>16376</th>\n",
              "      <td>PDC World Championship Darts 2008</td>\n",
              "      <td>PSP</td>\n",
              "      <td>NaN</td>\n",
              "      <td>Sports</td>\n",
              "      <td>Oxygen Interactive</td>\n",
              "      <td>0.01</td>\n",
              "      <td>0.00</td>\n",
              "      <td>0.0</td>\n",
              "      <td>0.00</td>\n",
              "      <td>0.01</td>\n",
              "      <td>43.0</td>\n",
              "      <td>7.0</td>\n",
              "      <td>tbd</td>\n",
              "      <td>NaN</td>\n",
              "      <td>Oxygen Interactive</td>\n",
              "      <td>E10+</td>\n",
              "    </tr>\n",
              "    <tr>\n",
              "      <th>16409</th>\n",
              "      <td>Freaky Flyers</td>\n",
              "      <td>GC</td>\n",
              "      <td>NaN</td>\n",
              "      <td>Racing</td>\n",
              "      <td>Unknown</td>\n",
              "      <td>0.01</td>\n",
              "      <td>0.00</td>\n",
              "      <td>0.0</td>\n",
              "      <td>0.00</td>\n",
              "      <td>0.01</td>\n",
              "      <td>69.0</td>\n",
              "      <td>14.0</td>\n",
              "      <td>6.5</td>\n",
              "      <td>6.0</td>\n",
              "      <td>Midway</td>\n",
              "      <td>T</td>\n",
              "    </tr>\n",
              "    <tr>\n",
              "      <th>16452</th>\n",
              "      <td>Inversion</td>\n",
              "      <td>PC</td>\n",
              "      <td>NaN</td>\n",
              "      <td>Shooter</td>\n",
              "      <td>Namco Bandai Games</td>\n",
              "      <td>0.01</td>\n",
              "      <td>0.00</td>\n",
              "      <td>0.0</td>\n",
              "      <td>0.00</td>\n",
              "      <td>0.01</td>\n",
              "      <td>59.0</td>\n",
              "      <td>6.0</td>\n",
              "      <td>6.7</td>\n",
              "      <td>107.0</td>\n",
              "      <td>Saber Interactive</td>\n",
              "      <td>M</td>\n",
              "    </tr>\n",
              "    <tr>\n",
              "      <th>16462</th>\n",
              "      <td>Hakuouki: Shinsengumi Kitan</td>\n",
              "      <td>PS3</td>\n",
              "      <td>NaN</td>\n",
              "      <td>Adventure</td>\n",
              "      <td>Unknown</td>\n",
              "      <td>0.01</td>\n",
              "      <td>0.00</td>\n",
              "      <td>0.0</td>\n",
              "      <td>0.00</td>\n",
              "      <td>0.01</td>\n",
              "      <td>NaN</td>\n",
              "      <td>NaN</td>\n",
              "      <td>NaN</td>\n",
              "      <td>NaN</td>\n",
              "      <td>NaN</td>\n",
              "      <td>NaN</td>\n",
              "    </tr>\n",
              "    <tr>\n",
              "      <th>16526</th>\n",
              "      <td>Virtua Quest</td>\n",
              "      <td>GC</td>\n",
              "      <td>NaN</td>\n",
              "      <td>Role-Playing</td>\n",
              "      <td>Unknown</td>\n",
              "      <td>0.01</td>\n",
              "      <td>0.00</td>\n",
              "      <td>0.0</td>\n",
              "      <td>0.00</td>\n",
              "      <td>0.01</td>\n",
              "      <td>55.0</td>\n",
              "      <td>19.0</td>\n",
              "      <td>5.5</td>\n",
              "      <td>12.0</td>\n",
              "      <td>Artificial Mind and Movement</td>\n",
              "      <td>T</td>\n",
              "    </tr>\n",
              "  </tbody>\n",
              "</table>\n",
              "<p>16719 rows × 16 columns</p>\n",
              "</div>"
            ],
            "text/plain": [
              "                                    Name  ... Rating\n",
              "262                            Asteroids  ...    NaN\n",
              "5360                             Freeway  ...    NaN\n",
              "546                      Missile Command  ...    NaN\n",
              "2650                              Boxing  ...    NaN\n",
              "4019                          Ice Hockey  ...    NaN\n",
              "...                                  ...  ...    ...\n",
              "16376  PDC World Championship Darts 2008  ...   E10+\n",
              "16409                      Freaky Flyers  ...      T\n",
              "16452                          Inversion  ...      M\n",
              "16462        Hakuouki: Shinsengumi Kitan  ...    NaN\n",
              "16526                       Virtua Quest  ...      T\n",
              "\n",
              "[16719 rows x 16 columns]"
            ]
          },
          "metadata": {
            "tags": []
          },
          "execution_count": 11
        }
      ]
    },
    {
      "cell_type": "code",
      "metadata": {
        "id": "0TcUlcbAprTE",
        "colab_type": "code",
        "outputId": "6d767d02-951c-4394-ff69-f60c43b0e61c",
        "colab": {
          "base_uri": "https://localhost:8080/",
          "height": 707
        }
      },
      "source": [
        "#instead of dropping na values replace with a different value\n",
        "\n",
        "# df['Year_of_Release'].value_counts()\n",
        "\n",
        "df['five_year_period'] = pd.cut(x=df['Year_of_Release'], bins = [1979, 1984, 1989, 1994, 1999, 2004, 2009, 2014, 2016], labels = ['1980-1984', '1985-1989', '1990-1994', '1995-1999', '2000-2004', '2005-2009', '2010-2014', '2015-2016'])\n",
        "# df.sort_values(by='Year_of_Release')\n",
        "\n",
        "df[df['Year_of_Release'] == 1985]"
      ],
      "execution_count": 0,
      "outputs": [
        {
          "output_type": "execute_result",
          "data": {
            "text/html": [
              "<div>\n",
              "<style scoped>\n",
              "    .dataframe tbody tr th:only-of-type {\n",
              "        vertical-align: middle;\n",
              "    }\n",
              "\n",
              "    .dataframe tbody tr th {\n",
              "        vertical-align: top;\n",
              "    }\n",
              "\n",
              "    .dataframe thead th {\n",
              "        text-align: right;\n",
              "    }\n",
              "</style>\n",
              "<table border=\"1\" class=\"dataframe\">\n",
              "  <thead>\n",
              "    <tr style=\"text-align: right;\">\n",
              "      <th></th>\n",
              "      <th>Name</th>\n",
              "      <th>Platform</th>\n",
              "      <th>Year_of_Release</th>\n",
              "      <th>Genre</th>\n",
              "      <th>Publisher</th>\n",
              "      <th>NA_Sales</th>\n",
              "      <th>EU_Sales</th>\n",
              "      <th>JP_Sales</th>\n",
              "      <th>Other_Sales</th>\n",
              "      <th>Global_Sales</th>\n",
              "      <th>Critic_Score</th>\n",
              "      <th>Critic_Count</th>\n",
              "      <th>User_Score</th>\n",
              "      <th>User_Count</th>\n",
              "      <th>Developer</th>\n",
              "      <th>Rating</th>\n",
              "      <th>five_year_period</th>\n",
              "    </tr>\n",
              "  </thead>\n",
              "  <tbody>\n",
              "    <tr>\n",
              "      <th>1</th>\n",
              "      <td>Super Mario Bros.</td>\n",
              "      <td>NES</td>\n",
              "      <td>1985.0</td>\n",
              "      <td>Platform</td>\n",
              "      <td>Nintendo</td>\n",
              "      <td>29.08</td>\n",
              "      <td>3.58</td>\n",
              "      <td>6.81</td>\n",
              "      <td>0.77</td>\n",
              "      <td>40.24</td>\n",
              "      <td>NaN</td>\n",
              "      <td>NaN</td>\n",
              "      <td>NaN</td>\n",
              "      <td>NaN</td>\n",
              "      <td>NaN</td>\n",
              "      <td>NaN</td>\n",
              "      <td>1985-1989</td>\n",
              "    </tr>\n",
              "    <tr>\n",
              "      <th>374</th>\n",
              "      <td>Kung Fu</td>\n",
              "      <td>NES</td>\n",
              "      <td>1985.0</td>\n",
              "      <td>Action</td>\n",
              "      <td>Nintendo</td>\n",
              "      <td>1.64</td>\n",
              "      <td>0.38</td>\n",
              "      <td>1.42</td>\n",
              "      <td>0.06</td>\n",
              "      <td>3.50</td>\n",
              "      <td>NaN</td>\n",
              "      <td>NaN</td>\n",
              "      <td>NaN</td>\n",
              "      <td>NaN</td>\n",
              "      <td>NaN</td>\n",
              "      <td>NaN</td>\n",
              "      <td>1985-1989</td>\n",
              "    </tr>\n",
              "    <tr>\n",
              "      <th>869</th>\n",
              "      <td>Soccer</td>\n",
              "      <td>NES</td>\n",
              "      <td>1985.0</td>\n",
              "      <td>Sports</td>\n",
              "      <td>Nintendo</td>\n",
              "      <td>0.18</td>\n",
              "      <td>0.23</td>\n",
              "      <td>1.53</td>\n",
              "      <td>0.02</td>\n",
              "      <td>1.96</td>\n",
              "      <td>NaN</td>\n",
              "      <td>NaN</td>\n",
              "      <td>NaN</td>\n",
              "      <td>NaN</td>\n",
              "      <td>NaN</td>\n",
              "      <td>NaN</td>\n",
              "      <td>1985-1989</td>\n",
              "    </tr>\n",
              "    <tr>\n",
              "      <th>1262</th>\n",
              "      <td>Ice Climber</td>\n",
              "      <td>NES</td>\n",
              "      <td>1985.0</td>\n",
              "      <td>Platform</td>\n",
              "      <td>Nintendo</td>\n",
              "      <td>0.46</td>\n",
              "      <td>0.10</td>\n",
              "      <td>0.92</td>\n",
              "      <td>0.02</td>\n",
              "      <td>1.50</td>\n",
              "      <td>NaN</td>\n",
              "      <td>NaN</td>\n",
              "      <td>NaN</td>\n",
              "      <td>NaN</td>\n",
              "      <td>NaN</td>\n",
              "      <td>NaN</td>\n",
              "      <td>1985-1989</td>\n",
              "    </tr>\n",
              "    <tr>\n",
              "      <th>1482</th>\n",
              "      <td>Gyromite</td>\n",
              "      <td>NES</td>\n",
              "      <td>1985.0</td>\n",
              "      <td>Puzzle</td>\n",
              "      <td>Nintendo</td>\n",
              "      <td>0.73</td>\n",
              "      <td>0.16</td>\n",
              "      <td>0.40</td>\n",
              "      <td>0.03</td>\n",
              "      <td>1.32</td>\n",
              "      <td>NaN</td>\n",
              "      <td>NaN</td>\n",
              "      <td>NaN</td>\n",
              "      <td>NaN</td>\n",
              "      <td>NaN</td>\n",
              "      <td>NaN</td>\n",
              "      <td>1985-1989</td>\n",
              "    </tr>\n",
              "    <tr>\n",
              "      <th>1971</th>\n",
              "      <td>Tag Team Match M.U.S.C.L.E.</td>\n",
              "      <td>NES</td>\n",
              "      <td>1985.0</td>\n",
              "      <td>Fighting</td>\n",
              "      <td>Namco Bandai Games</td>\n",
              "      <td>0.00</td>\n",
              "      <td>0.00</td>\n",
              "      <td>1.05</td>\n",
              "      <td>0.00</td>\n",
              "      <td>1.05</td>\n",
              "      <td>NaN</td>\n",
              "      <td>NaN</td>\n",
              "      <td>NaN</td>\n",
              "      <td>NaN</td>\n",
              "      <td>NaN</td>\n",
              "      <td>NaN</td>\n",
              "      <td>1985-1989</td>\n",
              "    </tr>\n",
              "    <tr>\n",
              "      <th>2011</th>\n",
              "      <td>Bomberman</td>\n",
              "      <td>NES</td>\n",
              "      <td>1985.0</td>\n",
              "      <td>Puzzle</td>\n",
              "      <td>Hudson Soft</td>\n",
              "      <td>0.18</td>\n",
              "      <td>0.00</td>\n",
              "      <td>0.85</td>\n",
              "      <td>0.00</td>\n",
              "      <td>1.03</td>\n",
              "      <td>NaN</td>\n",
              "      <td>NaN</td>\n",
              "      <td>NaN</td>\n",
              "      <td>NaN</td>\n",
              "      <td>NaN</td>\n",
              "      <td>NaN</td>\n",
              "      <td>1985-1989</td>\n",
              "    </tr>\n",
              "    <tr>\n",
              "      <th>2062</th>\n",
              "      <td>1942</td>\n",
              "      <td>NES</td>\n",
              "      <td>1985.0</td>\n",
              "      <td>Shooter</td>\n",
              "      <td>Capcom</td>\n",
              "      <td>0.65</td>\n",
              "      <td>0.14</td>\n",
              "      <td>0.21</td>\n",
              "      <td>0.00</td>\n",
              "      <td>1.00</td>\n",
              "      <td>NaN</td>\n",
              "      <td>NaN</td>\n",
              "      <td>NaN</td>\n",
              "      <td>NaN</td>\n",
              "      <td>NaN</td>\n",
              "      <td>NaN</td>\n",
              "      <td>1985-1989</td>\n",
              "    </tr>\n",
              "    <tr>\n",
              "      <th>2252</th>\n",
              "      <td>Balloon Fight</td>\n",
              "      <td>NES</td>\n",
              "      <td>1985.0</td>\n",
              "      <td>Platform</td>\n",
              "      <td>Nintendo</td>\n",
              "      <td>0.39</td>\n",
              "      <td>0.09</td>\n",
              "      <td>0.43</td>\n",
              "      <td>0.01</td>\n",
              "      <td>0.92</td>\n",
              "      <td>NaN</td>\n",
              "      <td>NaN</td>\n",
              "      <td>NaN</td>\n",
              "      <td>NaN</td>\n",
              "      <td>NaN</td>\n",
              "      <td>NaN</td>\n",
              "      <td>1985-1989</td>\n",
              "    </tr>\n",
              "    <tr>\n",
              "      <th>3904</th>\n",
              "      <td>Wrecking Crew</td>\n",
              "      <td>NES</td>\n",
              "      <td>1985.0</td>\n",
              "      <td>Platform</td>\n",
              "      <td>Nintendo</td>\n",
              "      <td>0.00</td>\n",
              "      <td>0.00</td>\n",
              "      <td>0.51</td>\n",
              "      <td>0.00</td>\n",
              "      <td>0.51</td>\n",
              "      <td>NaN</td>\n",
              "      <td>NaN</td>\n",
              "      <td>NaN</td>\n",
              "      <td>NaN</td>\n",
              "      <td>NaN</td>\n",
              "      <td>NaN</td>\n",
              "      <td>1985-1989</td>\n",
              "    </tr>\n",
              "    <tr>\n",
              "      <th>4296</th>\n",
              "      <td>Ghostbusters</td>\n",
              "      <td>2600</td>\n",
              "      <td>1985.0</td>\n",
              "      <td>Puzzle</td>\n",
              "      <td>Activision</td>\n",
              "      <td>0.42</td>\n",
              "      <td>0.03</td>\n",
              "      <td>0.00</td>\n",
              "      <td>0.00</td>\n",
              "      <td>0.45</td>\n",
              "      <td>NaN</td>\n",
              "      <td>NaN</td>\n",
              "      <td>NaN</td>\n",
              "      <td>NaN</td>\n",
              "      <td>NaN</td>\n",
              "      <td>NaN</td>\n",
              "      <td>1985-1989</td>\n",
              "    </tr>\n",
              "    <tr>\n",
              "      <th>4709</th>\n",
              "      <td>Dig Dug</td>\n",
              "      <td>NES</td>\n",
              "      <td>1985.0</td>\n",
              "      <td>Puzzle</td>\n",
              "      <td>Namco Bandai Games</td>\n",
              "      <td>0.00</td>\n",
              "      <td>0.00</td>\n",
              "      <td>0.41</td>\n",
              "      <td>0.00</td>\n",
              "      <td>0.41</td>\n",
              "      <td>NaN</td>\n",
              "      <td>NaN</td>\n",
              "      <td>NaN</td>\n",
              "      <td>NaN</td>\n",
              "      <td>NaN</td>\n",
              "      <td>NaN</td>\n",
              "      <td>1985-1989</td>\n",
              "    </tr>\n",
              "    <tr>\n",
              "      <th>14472</th>\n",
              "      <td>Alter Ego</td>\n",
              "      <td>PC</td>\n",
              "      <td>1985.0</td>\n",
              "      <td>Simulation</td>\n",
              "      <td>Activision</td>\n",
              "      <td>0.00</td>\n",
              "      <td>0.03</td>\n",
              "      <td>0.00</td>\n",
              "      <td>0.01</td>\n",
              "      <td>0.03</td>\n",
              "      <td>59.0</td>\n",
              "      <td>9.0</td>\n",
              "      <td>5.8</td>\n",
              "      <td>19.0</td>\n",
              "      <td>Viva Media, Viva Media, LLC</td>\n",
              "      <td>T</td>\n",
              "      <td>1985-1989</td>\n",
              "    </tr>\n",
              "    <tr>\n",
              "      <th>15959</th>\n",
              "      <td>Strongest Tokyo University Shogi DS</td>\n",
              "      <td>DS</td>\n",
              "      <td>1985.0</td>\n",
              "      <td>Action</td>\n",
              "      <td>Mycom</td>\n",
              "      <td>0.00</td>\n",
              "      <td>0.00</td>\n",
              "      <td>0.02</td>\n",
              "      <td>0.00</td>\n",
              "      <td>0.02</td>\n",
              "      <td>NaN</td>\n",
              "      <td>NaN</td>\n",
              "      <td>NaN</td>\n",
              "      <td>NaN</td>\n",
              "      <td>NaN</td>\n",
              "      <td>NaN</td>\n",
              "      <td>1985-1989</td>\n",
              "    </tr>\n",
              "  </tbody>\n",
              "</table>\n",
              "</div>"
            ],
            "text/plain": [
              "                                      Name Platform  ...  Rating five_year_period\n",
              "1                        Super Mario Bros.      NES  ...     NaN        1985-1989\n",
              "374                                Kung Fu      NES  ...     NaN        1985-1989\n",
              "869                                 Soccer      NES  ...     NaN        1985-1989\n",
              "1262                           Ice Climber      NES  ...     NaN        1985-1989\n",
              "1482                              Gyromite      NES  ...     NaN        1985-1989\n",
              "1971           Tag Team Match M.U.S.C.L.E.      NES  ...     NaN        1985-1989\n",
              "2011                             Bomberman      NES  ...     NaN        1985-1989\n",
              "2062                                  1942      NES  ...     NaN        1985-1989\n",
              "2252                         Balloon Fight      NES  ...     NaN        1985-1989\n",
              "3904                         Wrecking Crew      NES  ...     NaN        1985-1989\n",
              "4296                          Ghostbusters     2600  ...     NaN        1985-1989\n",
              "4709                               Dig Dug      NES  ...     NaN        1985-1989\n",
              "14472                            Alter Ego       PC  ...       T        1985-1989\n",
              "15959  Strongest Tokyo University Shogi DS       DS  ...     NaN        1985-1989\n",
              "\n",
              "[14 rows x 17 columns]"
            ]
          },
          "metadata": {
            "tags": []
          },
          "execution_count": 4
        }
      ]
    },
    {
      "cell_type": "code",
      "metadata": {
        "id": "IS2kmMLalVFT",
        "colab_type": "code",
        "outputId": "2257ed74-5349-4df0-b178-ebf27d92ad84",
        "colab": {
          "base_uri": "https://localhost:8080/",
          "height": 498
        }
      },
      "source": [
        "df.head(10)"
      ],
      "execution_count": 0,
      "outputs": [
        {
          "output_type": "execute_result",
          "data": {
            "text/html": [
              "<div>\n",
              "<style scoped>\n",
              "    .dataframe tbody tr th:only-of-type {\n",
              "        vertical-align: middle;\n",
              "    }\n",
              "\n",
              "    .dataframe tbody tr th {\n",
              "        vertical-align: top;\n",
              "    }\n",
              "\n",
              "    .dataframe thead th {\n",
              "        text-align: right;\n",
              "    }\n",
              "</style>\n",
              "<table border=\"1\" class=\"dataframe\">\n",
              "  <thead>\n",
              "    <tr style=\"text-align: right;\">\n",
              "      <th></th>\n",
              "      <th>Name</th>\n",
              "      <th>Platform</th>\n",
              "      <th>Year_of_Release</th>\n",
              "      <th>Genre</th>\n",
              "      <th>Publisher</th>\n",
              "      <th>NA_Sales</th>\n",
              "      <th>EU_Sales</th>\n",
              "      <th>JP_Sales</th>\n",
              "      <th>Other_Sales</th>\n",
              "      <th>Global_Sales</th>\n",
              "      <th>Critic_Score</th>\n",
              "      <th>Critic_Count</th>\n",
              "      <th>User_Score</th>\n",
              "      <th>User_Count</th>\n",
              "      <th>Developer</th>\n",
              "      <th>Rating</th>\n",
              "    </tr>\n",
              "  </thead>\n",
              "  <tbody>\n",
              "    <tr>\n",
              "      <th>0</th>\n",
              "      <td>Wii Sports</td>\n",
              "      <td>Wii</td>\n",
              "      <td>2006.0</td>\n",
              "      <td>Sports</td>\n",
              "      <td>Nintendo</td>\n",
              "      <td>41.36</td>\n",
              "      <td>28.96</td>\n",
              "      <td>3.77</td>\n",
              "      <td>8.45</td>\n",
              "      <td>82.53</td>\n",
              "      <td>76.0</td>\n",
              "      <td>51.0</td>\n",
              "      <td>8</td>\n",
              "      <td>322.0</td>\n",
              "      <td>Nintendo</td>\n",
              "      <td>E</td>\n",
              "    </tr>\n",
              "    <tr>\n",
              "      <th>1</th>\n",
              "      <td>Super Mario Bros.</td>\n",
              "      <td>NES</td>\n",
              "      <td>1985.0</td>\n",
              "      <td>Platform</td>\n",
              "      <td>Nintendo</td>\n",
              "      <td>29.08</td>\n",
              "      <td>3.58</td>\n",
              "      <td>6.81</td>\n",
              "      <td>0.77</td>\n",
              "      <td>40.24</td>\n",
              "      <td>NaN</td>\n",
              "      <td>NaN</td>\n",
              "      <td>NaN</td>\n",
              "      <td>NaN</td>\n",
              "      <td>NaN</td>\n",
              "      <td>NaN</td>\n",
              "    </tr>\n",
              "    <tr>\n",
              "      <th>2</th>\n",
              "      <td>Mario Kart Wii</td>\n",
              "      <td>Wii</td>\n",
              "      <td>2008.0</td>\n",
              "      <td>Racing</td>\n",
              "      <td>Nintendo</td>\n",
              "      <td>15.68</td>\n",
              "      <td>12.76</td>\n",
              "      <td>3.79</td>\n",
              "      <td>3.29</td>\n",
              "      <td>35.52</td>\n",
              "      <td>82.0</td>\n",
              "      <td>73.0</td>\n",
              "      <td>8.3</td>\n",
              "      <td>709.0</td>\n",
              "      <td>Nintendo</td>\n",
              "      <td>E</td>\n",
              "    </tr>\n",
              "    <tr>\n",
              "      <th>3</th>\n",
              "      <td>Wii Sports Resort</td>\n",
              "      <td>Wii</td>\n",
              "      <td>2009.0</td>\n",
              "      <td>Sports</td>\n",
              "      <td>Nintendo</td>\n",
              "      <td>15.61</td>\n",
              "      <td>10.93</td>\n",
              "      <td>3.28</td>\n",
              "      <td>2.95</td>\n",
              "      <td>32.77</td>\n",
              "      <td>80.0</td>\n",
              "      <td>73.0</td>\n",
              "      <td>8</td>\n",
              "      <td>192.0</td>\n",
              "      <td>Nintendo</td>\n",
              "      <td>E</td>\n",
              "    </tr>\n",
              "    <tr>\n",
              "      <th>4</th>\n",
              "      <td>Pokemon Red/Pokemon Blue</td>\n",
              "      <td>GB</td>\n",
              "      <td>1996.0</td>\n",
              "      <td>Role-Playing</td>\n",
              "      <td>Nintendo</td>\n",
              "      <td>11.27</td>\n",
              "      <td>8.89</td>\n",
              "      <td>10.22</td>\n",
              "      <td>1.00</td>\n",
              "      <td>31.37</td>\n",
              "      <td>NaN</td>\n",
              "      <td>NaN</td>\n",
              "      <td>NaN</td>\n",
              "      <td>NaN</td>\n",
              "      <td>NaN</td>\n",
              "      <td>NaN</td>\n",
              "    </tr>\n",
              "    <tr>\n",
              "      <th>5</th>\n",
              "      <td>Tetris</td>\n",
              "      <td>GB</td>\n",
              "      <td>1989.0</td>\n",
              "      <td>Puzzle</td>\n",
              "      <td>Nintendo</td>\n",
              "      <td>23.20</td>\n",
              "      <td>2.26</td>\n",
              "      <td>4.22</td>\n",
              "      <td>0.58</td>\n",
              "      <td>30.26</td>\n",
              "      <td>NaN</td>\n",
              "      <td>NaN</td>\n",
              "      <td>NaN</td>\n",
              "      <td>NaN</td>\n",
              "      <td>NaN</td>\n",
              "      <td>NaN</td>\n",
              "    </tr>\n",
              "    <tr>\n",
              "      <th>6</th>\n",
              "      <td>New Super Mario Bros.</td>\n",
              "      <td>DS</td>\n",
              "      <td>2006.0</td>\n",
              "      <td>Platform</td>\n",
              "      <td>Nintendo</td>\n",
              "      <td>11.28</td>\n",
              "      <td>9.14</td>\n",
              "      <td>6.50</td>\n",
              "      <td>2.88</td>\n",
              "      <td>29.80</td>\n",
              "      <td>89.0</td>\n",
              "      <td>65.0</td>\n",
              "      <td>8.5</td>\n",
              "      <td>431.0</td>\n",
              "      <td>Nintendo</td>\n",
              "      <td>E</td>\n",
              "    </tr>\n",
              "    <tr>\n",
              "      <th>7</th>\n",
              "      <td>Wii Play</td>\n",
              "      <td>Wii</td>\n",
              "      <td>2006.0</td>\n",
              "      <td>Misc</td>\n",
              "      <td>Nintendo</td>\n",
              "      <td>13.96</td>\n",
              "      <td>9.18</td>\n",
              "      <td>2.93</td>\n",
              "      <td>2.84</td>\n",
              "      <td>28.92</td>\n",
              "      <td>58.0</td>\n",
              "      <td>41.0</td>\n",
              "      <td>6.6</td>\n",
              "      <td>129.0</td>\n",
              "      <td>Nintendo</td>\n",
              "      <td>E</td>\n",
              "    </tr>\n",
              "    <tr>\n",
              "      <th>8</th>\n",
              "      <td>New Super Mario Bros. Wii</td>\n",
              "      <td>Wii</td>\n",
              "      <td>2009.0</td>\n",
              "      <td>Platform</td>\n",
              "      <td>Nintendo</td>\n",
              "      <td>14.44</td>\n",
              "      <td>6.94</td>\n",
              "      <td>4.70</td>\n",
              "      <td>2.24</td>\n",
              "      <td>28.32</td>\n",
              "      <td>87.0</td>\n",
              "      <td>80.0</td>\n",
              "      <td>8.4</td>\n",
              "      <td>594.0</td>\n",
              "      <td>Nintendo</td>\n",
              "      <td>E</td>\n",
              "    </tr>\n",
              "    <tr>\n",
              "      <th>9</th>\n",
              "      <td>Duck Hunt</td>\n",
              "      <td>NES</td>\n",
              "      <td>1984.0</td>\n",
              "      <td>Shooter</td>\n",
              "      <td>Nintendo</td>\n",
              "      <td>26.93</td>\n",
              "      <td>0.63</td>\n",
              "      <td>0.28</td>\n",
              "      <td>0.47</td>\n",
              "      <td>28.31</td>\n",
              "      <td>NaN</td>\n",
              "      <td>NaN</td>\n",
              "      <td>NaN</td>\n",
              "      <td>NaN</td>\n",
              "      <td>NaN</td>\n",
              "      <td>NaN</td>\n",
              "    </tr>\n",
              "  </tbody>\n",
              "</table>\n",
              "</div>"
            ],
            "text/plain": [
              "                        Name Platform  ...  Developer Rating\n",
              "0                 Wii Sports      Wii  ...   Nintendo      E\n",
              "1          Super Mario Bros.      NES  ...        NaN    NaN\n",
              "2             Mario Kart Wii      Wii  ...   Nintendo      E\n",
              "3          Wii Sports Resort      Wii  ...   Nintendo      E\n",
              "4   Pokemon Red/Pokemon Blue       GB  ...        NaN    NaN\n",
              "5                     Tetris       GB  ...        NaN    NaN\n",
              "6      New Super Mario Bros.       DS  ...   Nintendo      E\n",
              "7                   Wii Play      Wii  ...   Nintendo      E\n",
              "8  New Super Mario Bros. Wii      Wii  ...   Nintendo      E\n",
              "9                  Duck Hunt      NES  ...        NaN    NaN\n",
              "\n",
              "[10 rows x 16 columns]"
            ]
          },
          "metadata": {
            "tags": []
          },
          "execution_count": 9
        }
      ]
    },
    {
      "cell_type": "code",
      "metadata": {
        "id": "V4Mi8akVwqhA",
        "colab_type": "code",
        "colab": {}
      },
      "source": [
        "# Sales across different user scores\n",
        "# Genre in region sales\n",
        "# Look at this in terms of years as well just to be sure."
      ],
      "execution_count": 0,
      "outputs": []
    },
    {
      "cell_type": "code",
      "metadata": {
        "id": "8UTDSxbXuWHJ",
        "colab_type": "code",
        "outputId": "d8ad424c-339c-4eda-898b-759a8e1eee0a",
        "colab": {
          "base_uri": "https://localhost:8080/",
          "height": 51
        }
      },
      "source": [
        "print(df['Platform'].nunique())\n",
        "print(df.Year_of_Release.nunique(), df.Genre.nunique(), df.Genre.shape)"
      ],
      "execution_count": 0,
      "outputs": [
        {
          "output_type": "stream",
          "text": [
            "31\n",
            "39 12 (16719,)\n"
          ],
          "name": "stdout"
        }
      ]
    },
    {
      "cell_type": "code",
      "metadata": {
        "id": "vQuwiok5v0no",
        "colab_type": "code",
        "colab": {}
      },
      "source": [
        ""
      ],
      "execution_count": 0,
      "outputs": []
    },
    {
      "cell_type": "code",
      "metadata": {
        "id": "llRy8hahC0-X",
        "colab_type": "code",
        "outputId": "5835c2b2-31ae-410d-cfbc-4692b585159e",
        "colab": {
          "base_uri": "https://localhost:8080/",
          "height": 721
        }
      },
      "source": [
        "#all sales numbers reported in MILLIONS USD (1.0 = 1 million USD)\n",
        "sorted = df.sort_values(by='Global_Sales', ascending=False)\n",
        "\n",
        "sorted.head(15)"
      ],
      "execution_count": 0,
      "outputs": [
        {
          "output_type": "execute_result",
          "data": {
            "text/html": [
              "<div>\n",
              "<style scoped>\n",
              "    .dataframe tbody tr th:only-of-type {\n",
              "        vertical-align: middle;\n",
              "    }\n",
              "\n",
              "    .dataframe tbody tr th {\n",
              "        vertical-align: top;\n",
              "    }\n",
              "\n",
              "    .dataframe thead th {\n",
              "        text-align: right;\n",
              "    }\n",
              "</style>\n",
              "<table border=\"1\" class=\"dataframe\">\n",
              "  <thead>\n",
              "    <tr style=\"text-align: right;\">\n",
              "      <th></th>\n",
              "      <th>Name</th>\n",
              "      <th>Platform</th>\n",
              "      <th>Year_of_Release</th>\n",
              "      <th>Genre</th>\n",
              "      <th>Publisher</th>\n",
              "      <th>NA_Sales</th>\n",
              "      <th>EU_Sales</th>\n",
              "      <th>JP_Sales</th>\n",
              "      <th>Other_Sales</th>\n",
              "      <th>Global_Sales</th>\n",
              "      <th>Critic_Score</th>\n",
              "      <th>Critic_Count</th>\n",
              "      <th>User_Score</th>\n",
              "      <th>User_Count</th>\n",
              "      <th>Developer</th>\n",
              "      <th>Rating</th>\n",
              "    </tr>\n",
              "  </thead>\n",
              "  <tbody>\n",
              "    <tr>\n",
              "      <th>0</th>\n",
              "      <td>Wii Sports</td>\n",
              "      <td>Wii</td>\n",
              "      <td>2006.0</td>\n",
              "      <td>Sports</td>\n",
              "      <td>Nintendo</td>\n",
              "      <td>41.36</td>\n",
              "      <td>28.96</td>\n",
              "      <td>3.77</td>\n",
              "      <td>8.45</td>\n",
              "      <td>82.53</td>\n",
              "      <td>76.0</td>\n",
              "      <td>51.0</td>\n",
              "      <td>8</td>\n",
              "      <td>322.0</td>\n",
              "      <td>Nintendo</td>\n",
              "      <td>E</td>\n",
              "    </tr>\n",
              "    <tr>\n",
              "      <th>1</th>\n",
              "      <td>Super Mario Bros.</td>\n",
              "      <td>NES</td>\n",
              "      <td>1985.0</td>\n",
              "      <td>Platform</td>\n",
              "      <td>Nintendo</td>\n",
              "      <td>29.08</td>\n",
              "      <td>3.58</td>\n",
              "      <td>6.81</td>\n",
              "      <td>0.77</td>\n",
              "      <td>40.24</td>\n",
              "      <td>NaN</td>\n",
              "      <td>NaN</td>\n",
              "      <td>NaN</td>\n",
              "      <td>NaN</td>\n",
              "      <td>NaN</td>\n",
              "      <td>NaN</td>\n",
              "    </tr>\n",
              "    <tr>\n",
              "      <th>2</th>\n",
              "      <td>Mario Kart Wii</td>\n",
              "      <td>Wii</td>\n",
              "      <td>2008.0</td>\n",
              "      <td>Racing</td>\n",
              "      <td>Nintendo</td>\n",
              "      <td>15.68</td>\n",
              "      <td>12.76</td>\n",
              "      <td>3.79</td>\n",
              "      <td>3.29</td>\n",
              "      <td>35.52</td>\n",
              "      <td>82.0</td>\n",
              "      <td>73.0</td>\n",
              "      <td>8.3</td>\n",
              "      <td>709.0</td>\n",
              "      <td>Nintendo</td>\n",
              "      <td>E</td>\n",
              "    </tr>\n",
              "    <tr>\n",
              "      <th>3</th>\n",
              "      <td>Wii Sports Resort</td>\n",
              "      <td>Wii</td>\n",
              "      <td>2009.0</td>\n",
              "      <td>Sports</td>\n",
              "      <td>Nintendo</td>\n",
              "      <td>15.61</td>\n",
              "      <td>10.93</td>\n",
              "      <td>3.28</td>\n",
              "      <td>2.95</td>\n",
              "      <td>32.77</td>\n",
              "      <td>80.0</td>\n",
              "      <td>73.0</td>\n",
              "      <td>8</td>\n",
              "      <td>192.0</td>\n",
              "      <td>Nintendo</td>\n",
              "      <td>E</td>\n",
              "    </tr>\n",
              "    <tr>\n",
              "      <th>4</th>\n",
              "      <td>Pokemon Red/Pokemon Blue</td>\n",
              "      <td>GB</td>\n",
              "      <td>1996.0</td>\n",
              "      <td>Role-Playing</td>\n",
              "      <td>Nintendo</td>\n",
              "      <td>11.27</td>\n",
              "      <td>8.89</td>\n",
              "      <td>10.22</td>\n",
              "      <td>1.00</td>\n",
              "      <td>31.37</td>\n",
              "      <td>NaN</td>\n",
              "      <td>NaN</td>\n",
              "      <td>NaN</td>\n",
              "      <td>NaN</td>\n",
              "      <td>NaN</td>\n",
              "      <td>NaN</td>\n",
              "    </tr>\n",
              "    <tr>\n",
              "      <th>5</th>\n",
              "      <td>Tetris</td>\n",
              "      <td>GB</td>\n",
              "      <td>1989.0</td>\n",
              "      <td>Puzzle</td>\n",
              "      <td>Nintendo</td>\n",
              "      <td>23.20</td>\n",
              "      <td>2.26</td>\n",
              "      <td>4.22</td>\n",
              "      <td>0.58</td>\n",
              "      <td>30.26</td>\n",
              "      <td>NaN</td>\n",
              "      <td>NaN</td>\n",
              "      <td>NaN</td>\n",
              "      <td>NaN</td>\n",
              "      <td>NaN</td>\n",
              "      <td>NaN</td>\n",
              "    </tr>\n",
              "    <tr>\n",
              "      <th>6</th>\n",
              "      <td>New Super Mario Bros.</td>\n",
              "      <td>DS</td>\n",
              "      <td>2006.0</td>\n",
              "      <td>Platform</td>\n",
              "      <td>Nintendo</td>\n",
              "      <td>11.28</td>\n",
              "      <td>9.14</td>\n",
              "      <td>6.50</td>\n",
              "      <td>2.88</td>\n",
              "      <td>29.80</td>\n",
              "      <td>89.0</td>\n",
              "      <td>65.0</td>\n",
              "      <td>8.5</td>\n",
              "      <td>431.0</td>\n",
              "      <td>Nintendo</td>\n",
              "      <td>E</td>\n",
              "    </tr>\n",
              "    <tr>\n",
              "      <th>7</th>\n",
              "      <td>Wii Play</td>\n",
              "      <td>Wii</td>\n",
              "      <td>2006.0</td>\n",
              "      <td>Misc</td>\n",
              "      <td>Nintendo</td>\n",
              "      <td>13.96</td>\n",
              "      <td>9.18</td>\n",
              "      <td>2.93</td>\n",
              "      <td>2.84</td>\n",
              "      <td>28.92</td>\n",
              "      <td>58.0</td>\n",
              "      <td>41.0</td>\n",
              "      <td>6.6</td>\n",
              "      <td>129.0</td>\n",
              "      <td>Nintendo</td>\n",
              "      <td>E</td>\n",
              "    </tr>\n",
              "    <tr>\n",
              "      <th>8</th>\n",
              "      <td>New Super Mario Bros. Wii</td>\n",
              "      <td>Wii</td>\n",
              "      <td>2009.0</td>\n",
              "      <td>Platform</td>\n",
              "      <td>Nintendo</td>\n",
              "      <td>14.44</td>\n",
              "      <td>6.94</td>\n",
              "      <td>4.70</td>\n",
              "      <td>2.24</td>\n",
              "      <td>28.32</td>\n",
              "      <td>87.0</td>\n",
              "      <td>80.0</td>\n",
              "      <td>8.4</td>\n",
              "      <td>594.0</td>\n",
              "      <td>Nintendo</td>\n",
              "      <td>E</td>\n",
              "    </tr>\n",
              "    <tr>\n",
              "      <th>9</th>\n",
              "      <td>Duck Hunt</td>\n",
              "      <td>NES</td>\n",
              "      <td>1984.0</td>\n",
              "      <td>Shooter</td>\n",
              "      <td>Nintendo</td>\n",
              "      <td>26.93</td>\n",
              "      <td>0.63</td>\n",
              "      <td>0.28</td>\n",
              "      <td>0.47</td>\n",
              "      <td>28.31</td>\n",
              "      <td>NaN</td>\n",
              "      <td>NaN</td>\n",
              "      <td>NaN</td>\n",
              "      <td>NaN</td>\n",
              "      <td>NaN</td>\n",
              "      <td>NaN</td>\n",
              "    </tr>\n",
              "    <tr>\n",
              "      <th>10</th>\n",
              "      <td>Nintendogs</td>\n",
              "      <td>DS</td>\n",
              "      <td>2005.0</td>\n",
              "      <td>Simulation</td>\n",
              "      <td>Nintendo</td>\n",
              "      <td>9.05</td>\n",
              "      <td>10.95</td>\n",
              "      <td>1.93</td>\n",
              "      <td>2.74</td>\n",
              "      <td>24.67</td>\n",
              "      <td>NaN</td>\n",
              "      <td>NaN</td>\n",
              "      <td>NaN</td>\n",
              "      <td>NaN</td>\n",
              "      <td>NaN</td>\n",
              "      <td>NaN</td>\n",
              "    </tr>\n",
              "    <tr>\n",
              "      <th>11</th>\n",
              "      <td>Mario Kart DS</td>\n",
              "      <td>DS</td>\n",
              "      <td>2005.0</td>\n",
              "      <td>Racing</td>\n",
              "      <td>Nintendo</td>\n",
              "      <td>9.71</td>\n",
              "      <td>7.47</td>\n",
              "      <td>4.13</td>\n",
              "      <td>1.90</td>\n",
              "      <td>23.21</td>\n",
              "      <td>91.0</td>\n",
              "      <td>64.0</td>\n",
              "      <td>8.6</td>\n",
              "      <td>464.0</td>\n",
              "      <td>Nintendo</td>\n",
              "      <td>E</td>\n",
              "    </tr>\n",
              "    <tr>\n",
              "      <th>12</th>\n",
              "      <td>Pokemon Gold/Pokemon Silver</td>\n",
              "      <td>GB</td>\n",
              "      <td>1999.0</td>\n",
              "      <td>Role-Playing</td>\n",
              "      <td>Nintendo</td>\n",
              "      <td>9.00</td>\n",
              "      <td>6.18</td>\n",
              "      <td>7.20</td>\n",
              "      <td>0.71</td>\n",
              "      <td>23.10</td>\n",
              "      <td>NaN</td>\n",
              "      <td>NaN</td>\n",
              "      <td>NaN</td>\n",
              "      <td>NaN</td>\n",
              "      <td>NaN</td>\n",
              "      <td>NaN</td>\n",
              "    </tr>\n",
              "    <tr>\n",
              "      <th>13</th>\n",
              "      <td>Wii Fit</td>\n",
              "      <td>Wii</td>\n",
              "      <td>2007.0</td>\n",
              "      <td>Sports</td>\n",
              "      <td>Nintendo</td>\n",
              "      <td>8.92</td>\n",
              "      <td>8.03</td>\n",
              "      <td>3.60</td>\n",
              "      <td>2.15</td>\n",
              "      <td>22.70</td>\n",
              "      <td>80.0</td>\n",
              "      <td>63.0</td>\n",
              "      <td>7.7</td>\n",
              "      <td>146.0</td>\n",
              "      <td>Nintendo</td>\n",
              "      <td>E</td>\n",
              "    </tr>\n",
              "    <tr>\n",
              "      <th>14</th>\n",
              "      <td>Kinect Adventures!</td>\n",
              "      <td>X360</td>\n",
              "      <td>2010.0</td>\n",
              "      <td>Misc</td>\n",
              "      <td>Microsoft Game Studios</td>\n",
              "      <td>15.00</td>\n",
              "      <td>4.89</td>\n",
              "      <td>0.24</td>\n",
              "      <td>1.69</td>\n",
              "      <td>21.81</td>\n",
              "      <td>61.0</td>\n",
              "      <td>45.0</td>\n",
              "      <td>6.3</td>\n",
              "      <td>106.0</td>\n",
              "      <td>Good Science Studio</td>\n",
              "      <td>E</td>\n",
              "    </tr>\n",
              "  </tbody>\n",
              "</table>\n",
              "</div>"
            ],
            "text/plain": [
              "                           Name Platform  ...            Developer Rating\n",
              "0                    Wii Sports      Wii  ...             Nintendo      E\n",
              "1             Super Mario Bros.      NES  ...                  NaN    NaN\n",
              "2                Mario Kart Wii      Wii  ...             Nintendo      E\n",
              "3             Wii Sports Resort      Wii  ...             Nintendo      E\n",
              "4      Pokemon Red/Pokemon Blue       GB  ...                  NaN    NaN\n",
              "5                        Tetris       GB  ...                  NaN    NaN\n",
              "6         New Super Mario Bros.       DS  ...             Nintendo      E\n",
              "7                      Wii Play      Wii  ...             Nintendo      E\n",
              "8     New Super Mario Bros. Wii      Wii  ...             Nintendo      E\n",
              "9                     Duck Hunt      NES  ...                  NaN    NaN\n",
              "10                   Nintendogs       DS  ...                  NaN    NaN\n",
              "11                Mario Kart DS       DS  ...             Nintendo      E\n",
              "12  Pokemon Gold/Pokemon Silver       GB  ...                  NaN    NaN\n",
              "13                      Wii Fit      Wii  ...             Nintendo      E\n",
              "14           Kinect Adventures!     X360  ...  Good Science Studio      E\n",
              "\n",
              "[15 rows x 16 columns]"
            ]
          },
          "metadata": {
            "tags": []
          },
          "execution_count": 5
        }
      ]
    },
    {
      "cell_type": "code",
      "metadata": {
        "id": "x9HIKqX-lZ3P",
        "colab_type": "code",
        "outputId": "df7d4f3a-06fb-4268-b395-85300c4fce6a",
        "colab": {
          "base_uri": "https://localhost:8080/",
          "height": 367
        }
      },
      "source": [
        "plt.hist(df['Global_Sales'])"
      ],
      "execution_count": 0,
      "outputs": [
        {
          "output_type": "execute_result",
          "data": {
            "text/plain": [
              "(array([1.6638e+04, 5.8000e+01, 1.3000e+01, 7.0000e+00, 2.0000e+00,\n",
              "        0.0000e+00, 0.0000e+00, 0.0000e+00, 0.0000e+00, 1.0000e+00]),\n",
              " array([1.0000e-02, 8.2620e+00, 1.6514e+01, 2.4766e+01, 3.3018e+01,\n",
              "        4.1270e+01, 4.9522e+01, 5.7774e+01, 6.6026e+01, 7.4278e+01,\n",
              "        8.2530e+01]),\n",
              " <a list of 10 Patch objects>)"
            ]
          },
          "metadata": {
            "tags": []
          },
          "execution_count": 20
        },
        {
          "output_type": "display_data",
          "data": {
            "image/png": "[encoded data removed]",
            "text/plain": [
              "<Figure size 432x288 with 1 Axes>"
            ]
          },
          "metadata": {
            "tags": []
          }
        }
      ]
    },
    {
      "cell_type": "code",
      "metadata": {
        "id": "cRgBreBgk7ri",
        "colab_type": "code",
        "outputId": "6a46ed3b-2fc2-4089-e87b-e4a9c5a5ab25",
        "colab": {
          "base_uri": "https://localhost:8080/",
          "height": 350
        }
      },
      "source": [
        "gb = df[df['Global_Sales'] >= 1.0]\n",
        "\n",
        "plt.hist(gb['Global_Sales'])"
      ],
      "execution_count": 0,
      "outputs": [
        {
          "output_type": "execute_result",
          "data": {
            "text/plain": [
              "(array([2.002e+03, 5.200e+01, 1.200e+01, 7.000e+00, 2.000e+00, 0.000e+00,\n",
              "        0.000e+00, 0.000e+00, 0.000e+00, 1.000e+00]),\n",
              " array([ 1.   ,  9.153, 17.306, 25.459, 33.612, 41.765, 49.918, 58.071,\n",
              "        66.224, 74.377, 82.53 ]),\n",
              " <a list of 10 Patch objects>)"
            ]
          },
          "metadata": {
            "tags": []
          },
          "execution_count": 50
        },
        {
          "output_type": "display_data",
          "data": {
            "image/png": "[encoded data removed]",
            "text/plain": [
              "<Figure size 432x288 with 1 Axes>"
            ]
          },
          "metadata": {
            "tags": []
          }
        }
      ]
    },
    {
      "cell_type": "code",
      "metadata": {
        "id": "KeciYlgmlzHV",
        "colab_type": "code",
        "outputId": "f8b4bbb5-e06d-40e4-cab1-faa94fc84efb",
        "colab": {
          "base_uri": "https://localhost:8080/",
          "height": 34
        }
      },
      "source": [
        "len(gb)"
      ],
      "execution_count": 0,
      "outputs": [
        {
          "output_type": "execute_result",
          "data": {
            "text/plain": [
              "2076"
            ]
          },
          "metadata": {
            "tags": []
          },
          "execution_count": 51
        }
      ]
    },
    {
      "cell_type": "code",
      "metadata": {
        "id": "uy0FC8_KgW_R",
        "colab_type": "code",
        "outputId": "c7d076d2-27ee-4955-af6f-0d26085cc748",
        "colab": {
          "base_uri": "https://localhost:8080/",
          "height": 333
        }
      },
      "source": [
        "plt.hist(gb['Global_Sales'])"
      ],
      "execution_count": 0,
      "outputs": [
        {
          "output_type": "execute_result",
          "data": {
            "text/plain": [
              "(array([168.,  21.,   9.,   8.,   1.,   0.,   0.,   0.,   0.,   1.]),\n",
              " array([ 5.   , 12.753, 20.506, 28.259, 36.012, 43.765, 51.518, 59.271,\n",
              "        67.024, 74.777, 82.53 ]),\n",
              " <a list of 10 Patch objects>)"
            ]
          },
          "metadata": {
            "tags": []
          },
          "execution_count": 25
        },
        {
          "output_type": "display_data",
          "data": {
            "image/png": "[encoded data removed]",
            "text/plain": [
              "<Figure size 432x288 with 1 Axes>"
            ]
          },
          "metadata": {
            "tags": []
          }
        }
      ]
    },
    {
      "cell_type": "code",
      "metadata": {
        "id": "08WRHYX4S1jI",
        "colab_type": "code",
        "outputId": "a1f622ce-43f2-45f4-822b-4ce8983f8978",
        "colab": {
          "base_uri": "https://localhost:8080/",
          "height": 153
        }
      },
      "source": [
        "df.select_dtypes('object').apply(pd.Series.nunique, axis=0)"
      ],
      "execution_count": 0,
      "outputs": [
        {
          "output_type": "execute_result",
          "data": {
            "text/plain": [
              "Name          11562\n",
              "Platform         31\n",
              "Genre            12\n",
              "Publisher       581\n",
              "User_Score       96\n",
              "Developer      1696\n",
              "Rating            8\n",
              "dtype: int64"
            ]
          },
          "metadata": {
            "tags": []
          },
          "execution_count": 169
        }
      ]
    },
    {
      "cell_type": "code",
      "metadata": {
        "id": "UzboAWAoTBT6",
        "colab_type": "code",
        "outputId": "b45f1c65-2a44-4256-8910-9888452ea09a",
        "colab": {
          "base_uri": "https://localhost:8080/",
          "height": 306
        }
      },
      "source": [
        "df.isnull().sum()"
      ],
      "execution_count": 0,
      "outputs": [
        {
          "output_type": "execute_result",
          "data": {
            "text/plain": [
              "Name                  2\n",
              "Platform              0\n",
              "Year_of_Release     269\n",
              "Genre                 2\n",
              "Publisher            54\n",
              "NA_Sales              0\n",
              "EU_Sales              0\n",
              "JP_Sales              0\n",
              "Other_Sales           0\n",
              "Global_Sales          0\n",
              "Critic_Score       8582\n",
              "Critic_Count       8582\n",
              "User_Score         6704\n",
              "User_Count         9129\n",
              "Developer          6623\n",
              "Rating             6769\n",
              "dtype: int64"
            ]
          },
          "metadata": {
            "tags": []
          },
          "execution_count": 170
        }
      ]
    },
    {
      "cell_type": "code",
      "metadata": {
        "id": "r_m1zBBQTWxV",
        "colab_type": "code",
        "outputId": "f8a72019-c451-4c55-add7-d40373bff2ec",
        "colab": {
          "base_uri": "https://localhost:8080/",
          "height": 514
        }
      },
      "source": [
        "#checking percentage of nulls\n",
        "total = df.isnull().sum().sort_values(ascending=False)\n",
        "percent = (df.isnull().sum()/ df.isnull().count()*100).sort_values(ascending=False)\n",
        "\n",
        "missing_data = pd.concat([total, percent], axis = 1, keys = ['Total', 'Percent'])\n",
        "missing_data.head(15)"
      ],
      "execution_count": 0,
      "outputs": [
        {
          "output_type": "execute_result",
          "data": {
            "text/html": [
              "<div>\n",
              "<style scoped>\n",
              "    .dataframe tbody tr th:only-of-type {\n",
              "        vertical-align: middle;\n",
              "    }\n",
              "\n",
              "    .dataframe tbody tr th {\n",
              "        vertical-align: top;\n",
              "    }\n",
              "\n",
              "    .dataframe thead th {\n",
              "        text-align: right;\n",
              "    }\n",
              "</style>\n",
              "<table border=\"1\" class=\"dataframe\">\n",
              "  <thead>\n",
              "    <tr style=\"text-align: right;\">\n",
              "      <th></th>\n",
              "      <th>Total</th>\n",
              "      <th>Percent</th>\n",
              "    </tr>\n",
              "  </thead>\n",
              "  <tbody>\n",
              "    <tr>\n",
              "      <th>User_Count</th>\n",
              "      <td>9129</td>\n",
              "      <td>54.602548</td>\n",
              "    </tr>\n",
              "    <tr>\n",
              "      <th>Critic_Count</th>\n",
              "      <td>8582</td>\n",
              "      <td>51.330821</td>\n",
              "    </tr>\n",
              "    <tr>\n",
              "      <th>Critic_Score</th>\n",
              "      <td>8582</td>\n",
              "      <td>51.330821</td>\n",
              "    </tr>\n",
              "    <tr>\n",
              "      <th>Rating</th>\n",
              "      <td>6769</td>\n",
              "      <td>40.486871</td>\n",
              "    </tr>\n",
              "    <tr>\n",
              "      <th>User_Score</th>\n",
              "      <td>6704</td>\n",
              "      <td>40.098092</td>\n",
              "    </tr>\n",
              "    <tr>\n",
              "      <th>Developer</th>\n",
              "      <td>6623</td>\n",
              "      <td>39.613613</td>\n",
              "    </tr>\n",
              "    <tr>\n",
              "      <th>Year_of_Release</th>\n",
              "      <td>269</td>\n",
              "      <td>1.608948</td>\n",
              "    </tr>\n",
              "    <tr>\n",
              "      <th>Publisher</th>\n",
              "      <td>54</td>\n",
              "      <td>0.322986</td>\n",
              "    </tr>\n",
              "    <tr>\n",
              "      <th>Genre</th>\n",
              "      <td>2</td>\n",
              "      <td>0.011962</td>\n",
              "    </tr>\n",
              "    <tr>\n",
              "      <th>Name</th>\n",
              "      <td>2</td>\n",
              "      <td>0.011962</td>\n",
              "    </tr>\n",
              "    <tr>\n",
              "      <th>Global_Sales</th>\n",
              "      <td>0</td>\n",
              "      <td>0.000000</td>\n",
              "    </tr>\n",
              "    <tr>\n",
              "      <th>Other_Sales</th>\n",
              "      <td>0</td>\n",
              "      <td>0.000000</td>\n",
              "    </tr>\n",
              "    <tr>\n",
              "      <th>JP_Sales</th>\n",
              "      <td>0</td>\n",
              "      <td>0.000000</td>\n",
              "    </tr>\n",
              "    <tr>\n",
              "      <th>EU_Sales</th>\n",
              "      <td>0</td>\n",
              "      <td>0.000000</td>\n",
              "    </tr>\n",
              "    <tr>\n",
              "      <th>NA_Sales</th>\n",
              "      <td>0</td>\n",
              "      <td>0.000000</td>\n",
              "    </tr>\n",
              "  </tbody>\n",
              "</table>\n",
              "</div>"
            ],
            "text/plain": [
              "                 Total    Percent\n",
              "User_Count        9129  54.602548\n",
              "Critic_Count      8582  51.330821\n",
              "Critic_Score      8582  51.330821\n",
              "Rating            6769  40.486871\n",
              "User_Score        6704  40.098092\n",
              "Developer         6623  39.613613\n",
              "Year_of_Release    269   1.608948\n",
              "Publisher           54   0.322986\n",
              "Genre                2   0.011962\n",
              "Name                 2   0.011962\n",
              "Global_Sales         0   0.000000\n",
              "Other_Sales          0   0.000000\n",
              "JP_Sales             0   0.000000\n",
              "EU_Sales             0   0.000000\n",
              "NA_Sales             0   0.000000"
            ]
          },
          "metadata": {
            "tags": []
          },
          "execution_count": 171
        }
      ]
    },
    {
      "cell_type": "code",
      "metadata": {
        "id": "6-biPC4vct_F",
        "colab_type": "code",
        "colab": {}
      },
      "source": [
        "df[['Name','Genre']]"
      ],
      "execution_count": 0,
      "outputs": []
    },
    {
      "cell_type": "code",
      "metadata": {
        "id": "optW4G4ATlp3",
        "colab_type": "code",
        "outputId": "882627a7-e435-473d-ea34-34140729ae72",
        "colab": {
          "base_uri": "https://localhost:8080/",
          "height": 936
        }
      },
      "source": [
        "#excluding null Names and Null year_of_release, as it is a unclear whether they were actually released or if they had a wide-consumer release\n",
        "test = df\n",
        "test2 = test[test['Name'].notna()]\n",
        "test3 = test2[test2['Year_of_Release'].notna()]\n",
        "\n",
        "#not many rows were removed, so I feel it is okay to continue with investigation\n",
        "test3.info()\n",
        "\n",
        "\n",
        "\n",
        "# test3.isnull().sum()\n",
        "# test.dropna(subset=['Name', 'Genre'])\n",
        "# test.info()\n",
        "# test.isnull().sum()\n",
        "\n",
        "#Just to be sure, checking percentage of nulls again\n",
        "total_t = test3.isnull().sum().sort_values(ascending=False)\n",
        "percent_t = (test3.isnull().sum()/ test3.isnull().count()*100).sort_values(ascending=False)\n",
        "missing_data_t = pd.concat([total_t, percent_t], axis = 1, keys = ['Total', 'Percent'])\n",
        "missing_data_t.head(16)\n"
      ],
      "execution_count": 0,
      "outputs": [
        {
          "output_type": "stream",
          "text": [
            "<class 'pandas.core.frame.DataFrame'>\n",
            "Int64Index: 16448 entries, 0 to 16718\n",
            "Data columns (total 16 columns):\n",
            " #   Column           Non-Null Count  Dtype  \n",
            "---  ------           --------------  -----  \n",
            " 0   Name             16448 non-null  object \n",
            " 1   Platform         16448 non-null  object \n",
            " 2   Year_of_Release  16448 non-null  float64\n",
            " 3   Genre            16448 non-null  object \n",
            " 4   Publisher        16416 non-null  object \n",
            " 5   NA_Sales         16448 non-null  float64\n",
            " 6   EU_Sales         16448 non-null  float64\n",
            " 7   JP_Sales         16448 non-null  float64\n",
            " 8   Other_Sales      16448 non-null  float64\n",
            " 9   Global_Sales     16448 non-null  float64\n",
            " 10  Critic_Score     7983 non-null   float64\n",
            " 11  Critic_Count     7983 non-null   float64\n",
            " 12  User_Score       9840 non-null   object \n",
            " 13  User_Count       7463 non-null   float64\n",
            " 14  Developer        9907 non-null   object \n",
            " 15  Rating           9769 non-null   object \n",
            "dtypes: float64(9), object(7)\n",
            "memory usage: 2.1+ MB\n"
          ],
          "name": "stdout"
        },
        {
          "output_type": "execute_result",
          "data": {
            "text/html": [
              "<div>\n",
              "<style scoped>\n",
              "    .dataframe tbody tr th:only-of-type {\n",
              "        vertical-align: middle;\n",
              "    }\n",
              "\n",
              "    .dataframe tbody tr th {\n",
              "        vertical-align: top;\n",
              "    }\n",
              "\n",
              "    .dataframe thead th {\n",
              "        text-align: right;\n",
              "    }\n",
              "</style>\n",
              "<table border=\"1\" class=\"dataframe\">\n",
              "  <thead>\n",
              "    <tr style=\"text-align: right;\">\n",
              "      <th></th>\n",
              "      <th>Total</th>\n",
              "      <th>Percent</th>\n",
              "    </tr>\n",
              "  </thead>\n",
              "  <tbody>\n",
              "    <tr>\n",
              "      <th>User_Count</th>\n",
              "      <td>8985</td>\n",
              "      <td>54.626702</td>\n",
              "    </tr>\n",
              "    <tr>\n",
              "      <th>Critic_Count</th>\n",
              "      <td>8465</td>\n",
              "      <td>51.465224</td>\n",
              "    </tr>\n",
              "    <tr>\n",
              "      <th>Critic_Score</th>\n",
              "      <td>8465</td>\n",
              "      <td>51.465224</td>\n",
              "    </tr>\n",
              "    <tr>\n",
              "      <th>Rating</th>\n",
              "      <td>6679</td>\n",
              "      <td>40.606761</td>\n",
              "    </tr>\n",
              "    <tr>\n",
              "      <th>User_Score</th>\n",
              "      <td>6608</td>\n",
              "      <td>40.175097</td>\n",
              "    </tr>\n",
              "    <tr>\n",
              "      <th>Developer</th>\n",
              "      <td>6541</td>\n",
              "      <td>39.767753</td>\n",
              "    </tr>\n",
              "    <tr>\n",
              "      <th>Publisher</th>\n",
              "      <td>32</td>\n",
              "      <td>0.194553</td>\n",
              "    </tr>\n",
              "    <tr>\n",
              "      <th>Global_Sales</th>\n",
              "      <td>0</td>\n",
              "      <td>0.000000</td>\n",
              "    </tr>\n",
              "    <tr>\n",
              "      <th>Other_Sales</th>\n",
              "      <td>0</td>\n",
              "      <td>0.000000</td>\n",
              "    </tr>\n",
              "    <tr>\n",
              "      <th>JP_Sales</th>\n",
              "      <td>0</td>\n",
              "      <td>0.000000</td>\n",
              "    </tr>\n",
              "    <tr>\n",
              "      <th>EU_Sales</th>\n",
              "      <td>0</td>\n",
              "      <td>0.000000</td>\n",
              "    </tr>\n",
              "    <tr>\n",
              "      <th>NA_Sales</th>\n",
              "      <td>0</td>\n",
              "      <td>0.000000</td>\n",
              "    </tr>\n",
              "    <tr>\n",
              "      <th>Genre</th>\n",
              "      <td>0</td>\n",
              "      <td>0.000000</td>\n",
              "    </tr>\n",
              "    <tr>\n",
              "      <th>Year_of_Release</th>\n",
              "      <td>0</td>\n",
              "      <td>0.000000</td>\n",
              "    </tr>\n",
              "    <tr>\n",
              "      <th>Platform</th>\n",
              "      <td>0</td>\n",
              "      <td>0.000000</td>\n",
              "    </tr>\n",
              "    <tr>\n",
              "      <th>Name</th>\n",
              "      <td>0</td>\n",
              "      <td>0.000000</td>\n",
              "    </tr>\n",
              "  </tbody>\n",
              "</table>\n",
              "</div>"
            ],
            "text/plain": [
              "                 Total    Percent\n",
              "User_Count        8985  54.626702\n",
              "Critic_Count      8465  51.465224\n",
              "Critic_Score      8465  51.465224\n",
              "Rating            6679  40.606761\n",
              "User_Score        6608  40.175097\n",
              "Developer         6541  39.767753\n",
              "Publisher           32   0.194553\n",
              "Global_Sales         0   0.000000\n",
              "Other_Sales          0   0.000000\n",
              "JP_Sales             0   0.000000\n",
              "EU_Sales             0   0.000000\n",
              "NA_Sales             0   0.000000\n",
              "Genre                0   0.000000\n",
              "Year_of_Release      0   0.000000\n",
              "Platform             0   0.000000\n",
              "Name                 0   0.000000"
            ]
          },
          "metadata": {
            "tags": []
          },
          "execution_count": 62
        }
      ]
    },
    {
      "cell_type": "code",
      "metadata": {
        "id": "UVwlSgtEmxSM",
        "colab_type": "code",
        "outputId": "f3744bd2-4493-4277-f1fe-1dda5f4f8f4e",
        "colab": {
          "base_uri": "https://localhost:8080/",
          "height": 306
        }
      },
      "source": [
        "q = test\n",
        "q.dropna(subset=['User_Score'])\n",
        "q.isnull().sum()"
      ],
      "execution_count": 0,
      "outputs": [
        {
          "output_type": "execute_result",
          "data": {
            "text/plain": [
              "Name                  2\n",
              "Platform              0\n",
              "Year_of_Release     269\n",
              "Genre                 2\n",
              "Publisher            54\n",
              "NA_Sales              0\n",
              "EU_Sales              0\n",
              "JP_Sales              0\n",
              "Other_Sales           0\n",
              "Global_Sales          0\n",
              "Critic_Score       8582\n",
              "Critic_Count       8582\n",
              "User_Score         6704\n",
              "User_Count         9129\n",
              "Developer          6623\n",
              "Rating             6769\n",
              "dtype: int64"
            ]
          },
          "metadata": {
            "tags": []
          },
          "execution_count": 41
        }
      ]
    },
    {
      "cell_type": "code",
      "metadata": {
        "id": "kZ4wF8qxYu47",
        "colab_type": "code",
        "outputId": "8a6b08e0-8c1d-4605-9b6d-db2ccfaeef57",
        "colab": {
          "base_uri": "https://localhost:8080/",
          "height": 408
        }
      },
      "source": [
        "#Dropped all NA values after deliberating what to do.\n",
        "# This decision came mainly from the fact that many games did not have User scores, which is what I am focusing on here.\n",
        "test4 = test3.dropna()\n",
        "\n",
        "#Still more than enough to perform necessary analysis\n",
        "test4.info()"
      ],
      "execution_count": 0,
      "outputs": [
        {
          "output_type": "stream",
          "text": [
            "<class 'pandas.core.frame.DataFrame'>\n",
            "Int64Index: 6825 entries, 0 to 16706\n",
            "Data columns (total 16 columns):\n",
            " #   Column           Non-Null Count  Dtype  \n",
            "---  ------           --------------  -----  \n",
            " 0   Name             6825 non-null   object \n",
            " 1   Platform         6825 non-null   object \n",
            " 2   Year_of_Release  6825 non-null   float64\n",
            " 3   Genre            6825 non-null   object \n",
            " 4   Publisher        6825 non-null   object \n",
            " 5   NA_Sales         6825 non-null   float64\n",
            " 6   EU_Sales         6825 non-null   float64\n",
            " 7   JP_Sales         6825 non-null   float64\n",
            " 8   Other_Sales      6825 non-null   float64\n",
            " 9   Global_Sales     6825 non-null   float64\n",
            " 10  Critic_Score     6825 non-null   float64\n",
            " 11  Critic_Count     6825 non-null   float64\n",
            " 12  User_Score       6825 non-null   object \n",
            " 13  User_Count       6825 non-null   float64\n",
            " 14  Developer        6825 non-null   object \n",
            " 15  Rating           6825 non-null   object \n",
            "dtypes: float64(9), object(7)\n",
            "memory usage: 906.4+ KB\n"
          ],
          "name": "stdout"
        }
      ]
    },
    {
      "cell_type": "code",
      "metadata": {
        "id": "FxVYh8nEendy",
        "colab_type": "code",
        "outputId": "d0ae1ef3-d336-4749-c3c9-b7fb5ec8aeea",
        "colab": {
          "base_uri": "https://localhost:8080/",
          "height": 328
        }
      },
      "source": [
        "#Quick check of correlations to get an idea what columns may be influencing others. However, here I noticed that User_Score was not included.\n",
        "# Found out that User_Score was oddly an \"object\" instead of a float.\n",
        "# I corrected this lower down \n",
        "test4.corr()"
      ],
      "execution_count": 0,
      "outputs": [
        {
          "output_type": "execute_result",
          "data": {
            "text/html": [
              "<div>\n",
              "<style scoped>\n",
              "    .dataframe tbody tr th:only-of-type {\n",
              "        vertical-align: middle;\n",
              "    }\n",
              "\n",
              "    .dataframe tbody tr th {\n",
              "        vertical-align: top;\n",
              "    }\n",
              "\n",
              "    .dataframe thead th {\n",
              "        text-align: right;\n",
              "    }\n",
              "</style>\n",
              "<table border=\"1\" class=\"dataframe\">\n",
              "  <thead>\n",
              "    <tr style=\"text-align: right;\">\n",
              "      <th></th>\n",
              "      <th>Year_of_Release</th>\n",
              "      <th>NA_Sales</th>\n",
              "      <th>EU_Sales</th>\n",
              "      <th>JP_Sales</th>\n",
              "      <th>Other_Sales</th>\n",
              "      <th>Global_Sales</th>\n",
              "      <th>Critic_Score</th>\n",
              "      <th>Critic_Count</th>\n",
              "      <th>User_Count</th>\n",
              "    </tr>\n",
              "  </thead>\n",
              "  <tbody>\n",
              "    <tr>\n",
              "      <th>Year_of_Release</th>\n",
              "      <td>1.000000</td>\n",
              "      <td>-0.016239</td>\n",
              "      <td>0.041346</td>\n",
              "      <td>-0.038443</td>\n",
              "      <td>0.042315</td>\n",
              "      <td>0.006661</td>\n",
              "      <td>-0.007661</td>\n",
              "      <td>0.203336</td>\n",
              "      <td>0.199348</td>\n",
              "    </tr>\n",
              "    <tr>\n",
              "      <th>NA_Sales</th>\n",
              "      <td>-0.016239</td>\n",
              "      <td>1.000000</td>\n",
              "      <td>0.841808</td>\n",
              "      <td>0.468607</td>\n",
              "      <td>0.726757</td>\n",
              "      <td>0.955793</td>\n",
              "      <td>0.233580</td>\n",
              "      <td>0.283917</td>\n",
              "      <td>0.246208</td>\n",
              "    </tr>\n",
              "    <tr>\n",
              "      <th>EU_Sales</th>\n",
              "      <td>0.041346</td>\n",
              "      <td>0.841808</td>\n",
              "      <td>1.000000</td>\n",
              "      <td>0.519929</td>\n",
              "      <td>0.716330</td>\n",
              "      <td>0.939313</td>\n",
              "      <td>0.213102</td>\n",
              "      <td>0.265740</td>\n",
              "      <td>0.283504</td>\n",
              "    </tr>\n",
              "    <tr>\n",
              "      <th>JP_Sales</th>\n",
              "      <td>-0.038443</td>\n",
              "      <td>0.468607</td>\n",
              "      <td>0.519929</td>\n",
              "      <td>1.000000</td>\n",
              "      <td>0.394823</td>\n",
              "      <td>0.613546</td>\n",
              "      <td>0.147314</td>\n",
              "      <td>0.168299</td>\n",
              "      <td>0.072773</td>\n",
              "    </tr>\n",
              "    <tr>\n",
              "      <th>Other_Sales</th>\n",
              "      <td>0.042315</td>\n",
              "      <td>0.726757</td>\n",
              "      <td>0.716330</td>\n",
              "      <td>0.394823</td>\n",
              "      <td>1.000000</td>\n",
              "      <td>0.804028</td>\n",
              "      <td>0.191509</td>\n",
              "      <td>0.239513</td>\n",
              "      <td>0.240085</td>\n",
              "    </tr>\n",
              "    <tr>\n",
              "      <th>Global_Sales</th>\n",
              "      <td>0.006661</td>\n",
              "      <td>0.955793</td>\n",
              "      <td>0.939313</td>\n",
              "      <td>0.613546</td>\n",
              "      <td>0.804028</td>\n",
              "      <td>1.000000</td>\n",
              "      <td>0.237556</td>\n",
              "      <td>0.290397</td>\n",
              "      <td>0.264151</td>\n",
              "    </tr>\n",
              "    <tr>\n",
              "      <th>Critic_Score</th>\n",
              "      <td>-0.007661</td>\n",
              "      <td>0.233580</td>\n",
              "      <td>0.213102</td>\n",
              "      <td>0.147314</td>\n",
              "      <td>0.191509</td>\n",
              "      <td>0.237556</td>\n",
              "      <td>1.000000</td>\n",
              "      <td>0.396478</td>\n",
              "      <td>0.265639</td>\n",
              "    </tr>\n",
              "    <tr>\n",
              "      <th>Critic_Count</th>\n",
              "      <td>0.203336</td>\n",
              "      <td>0.283917</td>\n",
              "      <td>0.265740</td>\n",
              "      <td>0.168299</td>\n",
              "      <td>0.239513</td>\n",
              "      <td>0.290397</td>\n",
              "      <td>0.396478</td>\n",
              "      <td>1.000000</td>\n",
              "      <td>0.365603</td>\n",
              "    </tr>\n",
              "    <tr>\n",
              "      <th>User_Count</th>\n",
              "      <td>0.199348</td>\n",
              "      <td>0.246208</td>\n",
              "      <td>0.283504</td>\n",
              "      <td>0.072773</td>\n",
              "      <td>0.240085</td>\n",
              "      <td>0.264151</td>\n",
              "      <td>0.265639</td>\n",
              "      <td>0.365603</td>\n",
              "      <td>1.000000</td>\n",
              "    </tr>\n",
              "  </tbody>\n",
              "</table>\n",
              "</div>"
            ],
            "text/plain": [
              "                 Year_of_Release  NA_Sales  ...  Critic_Count  User_Count\n",
              "Year_of_Release         1.000000 -0.016239  ...      0.203336    0.199348\n",
              "NA_Sales               -0.016239  1.000000  ...      0.283917    0.246208\n",
              "EU_Sales                0.041346  0.841808  ...      0.265740    0.283504\n",
              "JP_Sales               -0.038443  0.468607  ...      0.168299    0.072773\n",
              "Other_Sales             0.042315  0.726757  ...      0.239513    0.240085\n",
              "Global_Sales            0.006661  0.955793  ...      0.290397    0.264151\n",
              "Critic_Score           -0.007661  0.233580  ...      0.396478    0.265639\n",
              "Critic_Count            0.203336  0.283917  ...      1.000000    0.365603\n",
              "User_Count              0.199348  0.246208  ...      0.365603    1.000000\n",
              "\n",
              "[9 rows x 9 columns]"
            ]
          },
          "metadata": {
            "tags": []
          },
          "execution_count": 64
        }
      ]
    },
    {
      "cell_type": "code",
      "metadata": {
        "id": "m0zEI-deg8df",
        "colab_type": "code",
        "outputId": "ee812f3f-9ea4-4bd4-a9b2-a750e1e04d9a",
        "colab": {
          "base_uri": "https://localhost:8080/",
          "height": 377
        }
      },
      "source": [
        "test4.head()"
      ],
      "execution_count": 0,
      "outputs": [
        {
          "output_type": "execute_result",
          "data": {
            "text/html": [
              "<div>\n",
              "<style scoped>\n",
              "    .dataframe tbody tr th:only-of-type {\n",
              "        vertical-align: middle;\n",
              "    }\n",
              "\n",
              "    .dataframe tbody tr th {\n",
              "        vertical-align: top;\n",
              "    }\n",
              "\n",
              "    .dataframe thead th {\n",
              "        text-align: right;\n",
              "    }\n",
              "</style>\n",
              "<table border=\"1\" class=\"dataframe\">\n",
              "  <thead>\n",
              "    <tr style=\"text-align: right;\">\n",
              "      <th></th>\n",
              "      <th>Name</th>\n",
              "      <th>Platform</th>\n",
              "      <th>Year_of_Release</th>\n",
              "      <th>Genre</th>\n",
              "      <th>Publisher</th>\n",
              "      <th>NA_Sales</th>\n",
              "      <th>EU_Sales</th>\n",
              "      <th>JP_Sales</th>\n",
              "      <th>Other_Sales</th>\n",
              "      <th>Global_Sales</th>\n",
              "      <th>Critic_Score</th>\n",
              "      <th>Critic_Count</th>\n",
              "      <th>User_Score</th>\n",
              "      <th>User_Count</th>\n",
              "      <th>Developer</th>\n",
              "      <th>Rating</th>\n",
              "    </tr>\n",
              "  </thead>\n",
              "  <tbody>\n",
              "    <tr>\n",
              "      <th>0</th>\n",
              "      <td>Wii Sports</td>\n",
              "      <td>Wii</td>\n",
              "      <td>2006.0</td>\n",
              "      <td>Sports</td>\n",
              "      <td>Nintendo</td>\n",
              "      <td>41.36</td>\n",
              "      <td>28.96</td>\n",
              "      <td>3.77</td>\n",
              "      <td>8.45</td>\n",
              "      <td>82.53</td>\n",
              "      <td>76.0</td>\n",
              "      <td>51.0</td>\n",
              "      <td>8</td>\n",
              "      <td>322.0</td>\n",
              "      <td>Nintendo</td>\n",
              "      <td>E</td>\n",
              "    </tr>\n",
              "    <tr>\n",
              "      <th>2</th>\n",
              "      <td>Mario Kart Wii</td>\n",
              "      <td>Wii</td>\n",
              "      <td>2008.0</td>\n",
              "      <td>Racing</td>\n",
              "      <td>Nintendo</td>\n",
              "      <td>15.68</td>\n",
              "      <td>12.76</td>\n",
              "      <td>3.79</td>\n",
              "      <td>3.29</td>\n",
              "      <td>35.52</td>\n",
              "      <td>82.0</td>\n",
              "      <td>73.0</td>\n",
              "      <td>8.3</td>\n",
              "      <td>709.0</td>\n",
              "      <td>Nintendo</td>\n",
              "      <td>E</td>\n",
              "    </tr>\n",
              "    <tr>\n",
              "      <th>3</th>\n",
              "      <td>Wii Sports Resort</td>\n",
              "      <td>Wii</td>\n",
              "      <td>2009.0</td>\n",
              "      <td>Sports</td>\n",
              "      <td>Nintendo</td>\n",
              "      <td>15.61</td>\n",
              "      <td>10.93</td>\n",
              "      <td>3.28</td>\n",
              "      <td>2.95</td>\n",
              "      <td>32.77</td>\n",
              "      <td>80.0</td>\n",
              "      <td>73.0</td>\n",
              "      <td>8</td>\n",
              "      <td>192.0</td>\n",
              "      <td>Nintendo</td>\n",
              "      <td>E</td>\n",
              "    </tr>\n",
              "    <tr>\n",
              "      <th>6</th>\n",
              "      <td>New Super Mario Bros.</td>\n",
              "      <td>DS</td>\n",
              "      <td>2006.0</td>\n",
              "      <td>Platform</td>\n",
              "      <td>Nintendo</td>\n",
              "      <td>11.28</td>\n",
              "      <td>9.14</td>\n",
              "      <td>6.50</td>\n",
              "      <td>2.88</td>\n",
              "      <td>29.80</td>\n",
              "      <td>89.0</td>\n",
              "      <td>65.0</td>\n",
              "      <td>8.5</td>\n",
              "      <td>431.0</td>\n",
              "      <td>Nintendo</td>\n",
              "      <td>E</td>\n",
              "    </tr>\n",
              "    <tr>\n",
              "      <th>7</th>\n",
              "      <td>Wii Play</td>\n",
              "      <td>Wii</td>\n",
              "      <td>2006.0</td>\n",
              "      <td>Misc</td>\n",
              "      <td>Nintendo</td>\n",
              "      <td>13.96</td>\n",
              "      <td>9.18</td>\n",
              "      <td>2.93</td>\n",
              "      <td>2.84</td>\n",
              "      <td>28.92</td>\n",
              "      <td>58.0</td>\n",
              "      <td>41.0</td>\n",
              "      <td>6.6</td>\n",
              "      <td>129.0</td>\n",
              "      <td>Nintendo</td>\n",
              "      <td>E</td>\n",
              "    </tr>\n",
              "  </tbody>\n",
              "</table>\n",
              "</div>"
            ],
            "text/plain": [
              "                    Name Platform  Year_of_Release  ... User_Count Developer  Rating\n",
              "0             Wii Sports      Wii           2006.0  ...      322.0  Nintendo       E\n",
              "2         Mario Kart Wii      Wii           2008.0  ...      709.0  Nintendo       E\n",
              "3      Wii Sports Resort      Wii           2009.0  ...      192.0  Nintendo       E\n",
              "6  New Super Mario Bros.       DS           2006.0  ...      431.0  Nintendo       E\n",
              "7               Wii Play      Wii           2006.0  ...      129.0  Nintendo       E\n",
              "\n",
              "[5 rows x 16 columns]"
            ]
          },
          "metadata": {
            "tags": []
          },
          "execution_count": 82
        }
      ]
    },
    {
      "cell_type": "code",
      "metadata": {
        "id": "8GbrYalQe4Td",
        "colab_type": "code",
        "outputId": "59333737-55a9-4c62-914e-87b185985d09",
        "colab": {
          "base_uri": "https://localhost:8080/",
          "height": 336
        }
      },
      "source": [
        "test4.groupby('Platform').count().plot(kind='barh', figsize=(15,5), title = 'Platforms')\n",
        "plt.show()"
      ],
      "execution_count": 0,
      "outputs": [
        {
          "output_type": "display_data",
          "data": {
            "image/png": "[encoded data removed]",
            "text/plain": [
              "<Figure size 1080x360 with 1 Axes>"
            ]
          },
          "metadata": {
            "tags": []
          }
        }
      ]
    },
    {
      "cell_type": "code",
      "metadata": {
        "id": "QqUjj_wPggWV",
        "colab_type": "code",
        "outputId": "41951e9f-f716-458e-873f-108129347e43",
        "colab": {
          "base_uri": "https://localhost:8080/",
          "height": 323
        }
      },
      "source": [
        "#Aggregate ratings come from Metacritic and their reporting of how games are rated throughout all reviewing sites.\n",
        "\n",
        "\n",
        "\n",
        "# critic_score6_7 = test4.loc[((test4['Critic_Score'] >= 60.0) & (test4['Critic_Score'] <= 70.0))]\n",
        "# critic_score6_7['Global_Sales'].mean()\n",
        "\n",
        "#Created a new column which converted the User_Score column as float\n",
        "test4['User_Score_Float'] = test4['User_Score'].astype(float)\n",
        "\n",
        "test4.dtypes"
      ],
      "execution_count": 0,
      "outputs": [
        {
          "output_type": "execute_result",
          "data": {
            "text/plain": [
              "Name                 object\n",
              "Platform             object\n",
              "Year_of_Release     float64\n",
              "Genre                object\n",
              "Publisher            object\n",
              "NA_Sales            float64\n",
              "EU_Sales            float64\n",
              "JP_Sales            float64\n",
              "Other_Sales         float64\n",
              "Global_Sales        float64\n",
              "Critic_Score        float64\n",
              "Critic_Count        float64\n",
              "User_Score           object\n",
              "User_Count          float64\n",
              "Developer            object\n",
              "Rating               object\n",
              "User_Score_Float    float64\n",
              "dtype: object"
            ]
          },
          "metadata": {
            "tags": []
          },
          "execution_count": 176
        }
      ]
    },
    {
      "cell_type": "code",
      "metadata": {
        "id": "dZ9JaqGyaH20",
        "colab_type": "code",
        "colab": {}
      },
      "source": [
        "#Below, there were a few outliers of games that made more than one million. About 60 or 70 games made far, far more than any other game. \n",
        "#Thus, I got rid of them and we're only checking games that made 1 million or less. This still preserves most of the idea, it simply lops off the top 1% of games.\n",
        "test4 = test4[test4['Global_Sales'] <= 1.0]"
      ],
      "execution_count": 0,
      "outputs": []
    },
    {
      "cell_type": "code",
      "metadata": {
        "id": "IaMb5hcHKDw1",
        "colab_type": "code",
        "colab": {}
      },
      "source": [
        "#practice\n",
        "test4.loc[test4['User_Score_Float'] >= 6.0]"
      ],
      "execution_count": 0,
      "outputs": []
    },
    {
      "cell_type": "code",
      "metadata": {
        "id": "ut5h5byys4Ja",
        "colab_type": "code",
        "colab": {}
      },
      "source": [
        "#Split the data into many different groups. This is to make the data more granular and also to follow reviewing conventions found on many websites\n",
        "#Most websites will attribute a different adjective to each full 1.0 difference in score ('Masterpiece' for 9.0 or higher, 'Great' for 8.0 to 8.9, and on down )\n",
        "\n",
        "us9_above = test4.loc[test4['User_Score_Float'] >= 9.0]\n",
        "us8_9 = test4.loc[((test4['User_Score_Float'] >= 8.0) & (test4['User_Score_Float'] < 9.0))]\n",
        "us7_8 = test4.loc[((test4['User_Score_Float'] >= 7.0) & (test4['User_Score_Float'] < 8.0))]\n",
        "us6_7 = test4.loc[((test4['User_Score_Float'] >= 6.0) & (test4['User_Score_Float'] < 7.0))]\n",
        "us5_6 = test4.loc[((test4['User_Score_Float'] >= 5.0) & (test4['User_Score_Float'] < 6.0))]\n",
        "us5_below = test4.loc[test4['User_Score_Float'] < 5.0]\n",
        "\n"
      ],
      "execution_count": 0,
      "outputs": []
    },
    {
      "cell_type": "code",
      "metadata": {
        "id": "vHzt7EaNJnsh",
        "colab_type": "code",
        "outputId": "8b8c4549-5d75-433e-9ebd-cc40b36ce20a",
        "colab": {
          "base_uri": "https://localhost:8080/",
          "height": 119
        }
      },
      "source": [
        "#I didn't want to cut the data too finely and thus included all the data in 5.0 or lower into one group. You'll see below that the group doesn't contain many games.\n",
        "#So, I think it is okay for an analysis at this level.\n",
        "print(us9_above.shape)\n",
        "print(us8_9.shape)\n",
        "print(us7_8.shape)\n",
        "print(us6_7.shape)\n",
        "print(us5_6.shape)\n",
        "print(us5_below.shape)"
      ],
      "execution_count": 0,
      "outputs": [
        {
          "output_type": "stream",
          "text": [
            "(199, 18)\n",
            "(1584, 18)\n",
            "(1715, 18)\n",
            "(979, 18)\n",
            "(542, 18)\n",
            "(499, 18)\n"
          ],
          "name": "stdout"
        }
      ]
    },
    {
      "cell_type": "code",
      "metadata": {
        "id": "z3rNPuyaUUjS",
        "colab_type": "code",
        "outputId": "b92a99b7-0663-4d12-e246-3e1d54de5b16",
        "colab": {
          "base_uri": "https://localhost:8080/",
          "height": 153
        }
      },
      "source": [
        "#Checking scores to see how many different categories we have.\n",
        "#5 and below contains a LOT, but again, that is an aggregate group so I think preserving that is okay.\n",
        "print(us9_above['User_Score_Float'].unique())\n",
        "print(us8_9['User_Score_Float'].unique())\n",
        "print(us7_8['User_Score_Float'].unique())\n",
        "print(us6_7['User_Score_Float'].unique())\n",
        "print(us5_6['User_Score_Float'].unique())\n",
        "print(us5_below['User_Score_Float'].unique())"
      ],
      "execution_count": 0,
      "outputs": [
        {
          "output_type": "stream",
          "text": [
            "[9.3 9.1 9.2 9.  9.4 9.6 9.5]\n",
            "[8.  8.4 8.9 8.5 8.6 8.2 8.1 8.3 8.7 8.8]\n",
            "[7.8 7.6 7.9 7.5 7.4 7.7 7.3 7.1 7.  7.2]\n",
            "[6.6 6.5 6.8 6.2 6.4 6.9 6.7 6.1 6.3 6. ]\n",
            "[5.  5.4 5.9 5.3 5.5 5.2 5.6 5.7 5.8 5.1]\n",
            "[4.5 2.1 4.3 4.1 4.8 3.3 3.4 4.2 4.9 4.4 1.8 4.6 3.1 3.8 3.  4.7 4.  2.9\n",
            " 3.6 3.7 3.9 2.8 1.7 3.2 3.5 2.7 2.4 2.  1.5 2.6 1.2 2.5 2.3 0.5 2.2 0.6\n",
            " 0.9 1.  1.4 1.9 1.3 0.7]\n"
          ],
          "name": "stdout"
        }
      ]
    },
    {
      "cell_type": "code",
      "metadata": {
        "id": "cizkMIpDej4G",
        "colab_type": "code",
        "colab": {}
      },
      "source": [
        "#In order to carry out some other analysis I wanted to do below, I identified each sub-group and then put them back together into one df\n",
        "\n",
        "us9_above['us_group'] = '9'\n",
        "us8_9['us_group'] = '8'\n",
        "us7_8['us_group'] = '7'\n",
        "us6_7['us_group'] = '6'\n",
        "us5_6['us_group'] = '5'\n",
        "us5_below['us_group'] = '4'"
      ],
      "execution_count": 0,
      "outputs": []
    },
    {
      "cell_type": "code",
      "metadata": {
        "id": "ihGk7WmjexP9",
        "colab_type": "code",
        "outputId": "c7b1f90f-61fa-4436-b685-7b8184259980",
        "colab": {
          "base_uri": "https://localhost:8080/",
          "height": 442
        }
      },
      "source": [
        "df2 = pd.concat([us9_above,us8_9,us7_8,us6_7,us5_6,us5_below])\n",
        "df2.info()"
      ],
      "execution_count": 0,
      "outputs": [
        {
          "output_type": "stream",
          "text": [
            "<class 'pandas.core.frame.DataFrame'>\n",
            "Int64Index: 5518 entries, 2073 to 16667\n",
            "Data columns (total 18 columns):\n",
            " #   Column            Non-Null Count  Dtype  \n",
            "---  ------            --------------  -----  \n",
            " 0   Name              5518 non-null   object \n",
            " 1   Platform          5518 non-null   object \n",
            " 2   Year_of_Release   5518 non-null   float64\n",
            " 3   Genre             5518 non-null   object \n",
            " 4   Publisher         5518 non-null   object \n",
            " 5   NA_Sales          5518 non-null   float64\n",
            " 6   EU_Sales          5518 non-null   float64\n",
            " 7   JP_Sales          5518 non-null   float64\n",
            " 8   Other_Sales       5518 non-null   float64\n",
            " 9   Global_Sales      5518 non-null   float64\n",
            " 10  Critic_Score      5518 non-null   float64\n",
            " 11  Critic_Count      5518 non-null   float64\n",
            " 12  User_Score        5518 non-null   object \n",
            " 13  User_Count        5518 non-null   float64\n",
            " 14  Developer         5518 non-null   object \n",
            " 15  Rating            5518 non-null   object \n",
            " 16  User_Score_Float  5518 non-null   float64\n",
            " 17  us_group          5518 non-null   object \n",
            "dtypes: float64(10), object(8)\n",
            "memory usage: 819.1+ KB\n"
          ],
          "name": "stdout"
        }
      ]
    },
    {
      "cell_type": "code",
      "metadata": {
        "id": "3R61UqbgUFt1",
        "colab_type": "code",
        "outputId": "64e54d13-ca3c-44c2-990c-1ec4a107f1b2",
        "colab": {
          "base_uri": "https://localhost:8080/",
          "height": 441
        }
      },
      "source": [
        "#This part is half me just playing with plots and another half of checking occurences of each user_score/global sale.\n",
        "plt.figure(figsize=(8,6))\n",
        "sns.countplot(x='User_Score_Float', data=us9_above, order=us9_above['User_Score_Float'].value_counts().index)\n",
        "plt.title=('# of scores')\n",
        "plt.tight_layout()\n",
        "plt.show()"
      ],
      "execution_count": 0,
      "outputs": [
        {
          "output_type": "display_data",
          "data": {
            "image/png": "[encoded data removed]",
            "text/plain": [
              "<Figure size 576x432 with 1 Axes>"
            ]
          },
          "metadata": {
            "tags": []
          }
        }
      ]
    },
    {
      "cell_type": "code",
      "metadata": {
        "id": "QJFLSAN6WYoR",
        "colab_type": "code",
        "outputId": "b551428a-3174-4d44-f7d9-2225909b7597",
        "colab": {
          "base_uri": "https://localhost:8080/",
          "height": 441
        }
      },
      "source": [
        "plt.figure(figsize=(8,6))\n",
        "sns.countplot(x='User_Score_Float', data=us8_9, order=us8_9['User_Score_Float'].value_counts().index)\n",
        "plt.title=('# of scores')\n",
        "plt.tight_layout()\n",
        "plt.show()"
      ],
      "execution_count": 0,
      "outputs": [
        {
          "output_type": "display_data",
          "data": {
            "image/png": "[encoded data removed]",
            "text/plain": [
              "<Figure size 576x432 with 1 Axes>"
            ]
          },
          "metadata": {
            "tags": []
          }
        }
      ]
    },
    {
      "cell_type": "code",
      "metadata": {
        "id": "hoyLXJM_VVDN",
        "colab_type": "code",
        "outputId": "cfab2c6a-d419-489f-edf1-e3b376469a89",
        "colab": {
          "base_uri": "https://localhost:8080/",
          "height": 34
        }
      },
      "source": [
        "us9_above['User_Score_Float'].value_counts().index"
      ],
      "execution_count": 0,
      "outputs": [
        {
          "output_type": "execute_result",
          "data": {
            "text/plain": [
              "Float64Index([9.0, 9.1, 9.2, 9.3, 9.4, 9.5, 9.6], dtype='float64')"
            ]
          },
          "metadata": {
            "tags": []
          },
          "execution_count": 146
        }
      ]
    },
    {
      "cell_type": "code",
      "metadata": {
        "id": "QD8GfEWLVZZk",
        "colab_type": "code",
        "outputId": "e21372b1-f1b7-4cfb-dc23-3f989073a696",
        "colab": {
          "base_uri": "https://localhost:8080/",
          "height": 336
        }
      },
      "source": [
        "us9_above.groupby('User_Score_Float')['Global_Sales'] \\\n",
        "  .plot(kind ='hist',\n",
        "          bins = 20,\n",
        "        figsize=(15,5),\n",
        "        title='global sales by score')\n",
        "plt.show()"
      ],
      "execution_count": 0,
      "outputs": [
        {
          "output_type": "display_data",
          "data": {
            "image/png": "[encoded data removed]",
            "text/plain": [
              "<Figure size 1080x360 with 1 Axes>"
            ]
          },
          "metadata": {
            "tags": []
          }
        }
      ]
    },
    {
      "cell_type": "code",
      "metadata": {
        "id": "_TYH__4HyE5Z",
        "colab_type": "code",
        "outputId": "7fc9efa5-d1a5-4cba-d58c-c17e05ed41a0",
        "colab": {
          "base_uri": "https://localhost:8080/",
          "height": 411
        }
      },
      "source": [
        "#These don't look very normal just from eyeballing. Just to be sure I wasn't doing something wrong, I did individual histograms just to be 100% sure I was doing it right.\n",
        "# df2['User_Score_Float'].hist(by=df2['Global_Sales'])\n",
        "df2['Global_Sales'].hist(by=df2['us_group'])"
      ],
      "execution_count": 0,
      "outputs": [
        {
          "output_type": "execute_result",
          "data": {
            "text/plain": [
              "array([[<matplotlib.axes._subplots.AxesSubplot object at 0x7f898622c4a8>,\n",
              "        <matplotlib.axes._subplots.AxesSubplot object at 0x7f89862abc18>],\n",
              "       [<matplotlib.axes._subplots.AxesSubplot object at 0x7f898620a128>,\n",
              "        <matplotlib.axes._subplots.AxesSubplot object at 0x7f89860b1400>],\n",
              "       [<matplotlib.axes._subplots.AxesSubplot object at 0x7f898619a780>,\n",
              "        <matplotlib.axes._subplots.AxesSubplot object at 0x7f8986137b00>]],\n",
              "      dtype=object)"
            ]
          },
          "metadata": {
            "tags": []
          },
          "execution_count": 181
        },
        {
          "output_type": "display_data",
          "data": {
            "image/png": "[encoded data removed]",
            "text/plain": [
              "<Figure size 432x288 with 6 Axes>"
            ]
          },
          "metadata": {
            "tags": []
          }
        }
      ]
    },
    {
      "cell_type": "code",
      "metadata": {
        "id": "psWSJ-t-W3Pb",
        "colab_type": "code",
        "outputId": "a7e9d362-2dfa-45ed-e203-f04c9212a8d6",
        "colab": {
          "base_uri": "https://localhost:8080/",
          "height": 333
        }
      },
      "source": [
        "plt.hist(us9_above['Global_Sales'])"
      ],
      "execution_count": 0,
      "outputs": [
        {
          "output_type": "execute_result",
          "data": {
            "text/plain": [
              "(array([64., 42., 24., 17., 10., 13., 11.,  4.,  6.,  8.]),\n",
              " array([0.01 , 0.109, 0.208, 0.307, 0.406, 0.505, 0.604, 0.703, 0.802,\n",
              "        0.901, 1.   ]),\n",
              " <a list of 10 Patch objects>)"
            ]
          },
          "metadata": {
            "tags": []
          },
          "execution_count": 148
        },
        {
          "output_type": "display_data",
          "data": {
            "image/png": "[encoded data removed]",
            "text/plain": [
              "<Figure size 432x288 with 1 Axes>"
            ]
          },
          "metadata": {
            "tags": []
          }
        }
      ]
    },
    {
      "cell_type": "code",
      "metadata": {
        "id": "sFQ_dUVMYWM6",
        "colab_type": "code",
        "outputId": "2fcf82de-f7c3-4a82-df33-ef57299fa970",
        "colab": {
          "base_uri": "https://localhost:8080/",
          "height": 265
        }
      },
      "source": [
        "plt.hist(us8_9['Global_Sales'])\n",
        "plt.show()"
      ],
      "execution_count": 0,
      "outputs": [
        {
          "output_type": "display_data",
          "data": {
            "image/png": "[encoded data removed]",
            "text/plain": [
              "<Figure size 432x288 with 1 Axes>"
            ]
          },
          "metadata": {
            "tags": []
          }
        }
      ]
    },
    {
      "cell_type": "code",
      "metadata": {
        "id": "inAQ-PtFbwfD",
        "colab_type": "code",
        "outputId": "13e2b405-b0c1-4597-f932-5e82b64af730",
        "colab": {
          "base_uri": "https://localhost:8080/",
          "height": 265
        }
      },
      "source": [
        "plt.hist(us7_8['Global_Sales'])\n",
        "plt.show()"
      ],
      "execution_count": 0,
      "outputs": [
        {
          "output_type": "display_data",
          "data": {
            "image/png": "[encoded data removed]",
            "text/plain": [
              "<Figure size 432x288 with 1 Axes>"
            ]
          },
          "metadata": {
            "tags": []
          }
        }
      ]
    },
    {
      "cell_type": "code",
      "metadata": {
        "id": "jMCmVoyEby7Q",
        "colab_type": "code",
        "outputId": "52171d5c-c37b-434d-a8da-252a3dc92ef6",
        "colab": {
          "base_uri": "https://localhost:8080/",
          "height": 265
        }
      },
      "source": [
        "plt.hist(us6_7['Global_Sales'])\n",
        "plt.show()"
      ],
      "execution_count": 0,
      "outputs": [
        {
          "output_type": "display_data",
          "data": {
            "image/png": "[encoded data removed]",
            "text/plain": [
              "<Figure size 432x288 with 1 Axes>"
            ]
          },
          "metadata": {
            "tags": []
          }
        }
      ]
    },
    {
      "cell_type": "code",
      "metadata": {
        "id": "ysle_R6tb1mx",
        "colab_type": "code",
        "outputId": "2619f1b3-f289-47df-b77b-16f47b17077d",
        "colab": {
          "base_uri": "https://localhost:8080/",
          "height": 265
        }
      },
      "source": [
        "plt.hist(us5_6['Global_Sales'])\n",
        "plt.show()"
      ],
      "execution_count": 0,
      "outputs": [
        {
          "output_type": "display_data",
          "data": {
            "image/png": "[encoded data removed]",
            "text/plain": [
              "<Figure size 432x288 with 1 Axes>"
            ]
          },
          "metadata": {
            "tags": []
          }
        }
      ]
    },
    {
      "cell_type": "code",
      "metadata": {
        "id": "KhbNws5Tb3ls",
        "colab_type": "code",
        "outputId": "6353feb4-4106-465e-e57f-74f16ceedf20",
        "colab": {
          "base_uri": "https://localhost:8080/",
          "height": 265
        }
      },
      "source": [
        "plt.hist(us5_below['Global_Sales'])\n",
        "plt.show()"
      ],
      "execution_count": 0,
      "outputs": [
        {
          "output_type": "display_data",
          "data": {
            "image/png": "[encoded data removed]",
            "text/plain": [
              "<Figure size 432x288 with 1 Axes>"
            ]
          },
          "metadata": {
            "tags": []
          }
        }
      ]
    },
    {
      "cell_type": "code",
      "metadata": {
        "id": "TXbCz-DgXZTD",
        "colab_type": "code",
        "outputId": "9b22bee6-d4ba-42ef-eb89-10b7ed270786",
        "colab": {
          "base_uri": "https://localhost:8080/",
          "height": 438
        }
      },
      "source": [
        "#Just a selection, I didn't want to over-plot anything else. It was taking a lot of time.\n",
        "\n",
        "us9_above.boxplot('Global_Sales', by='User_Score_Float', figsize=(10,6))"
      ],
      "execution_count": 0,
      "outputs": [
        {
          "output_type": "execute_result",
          "data": {
            "text/plain": [
              "<matplotlib.axes._subplots.AxesSubplot at 0x7f898ab3d358>"
            ]
          },
          "metadata": {
            "tags": []
          },
          "execution_count": 150
        },
        {
          "output_type": "display_data",
          "data": {
            "image/png": "[encoded data removed]",
            "text/plain": [
              "<Figure size 720x432 with 1 Axes>"
            ]
          },
          "metadata": {
            "tags": []
          }
        }
      ]
    },
    {
      "cell_type": "code",
      "metadata": {
        "id": "R1-EakIyYE0q",
        "colab_type": "code",
        "outputId": "4dee7373-e340-413f-9977-b63cb03d6808",
        "colab": {
          "base_uri": "https://localhost:8080/",
          "height": 139
        }
      },
      "source": [
        "#Just from checking skewness and kurtosis, but we have non-normal data (which was expected from how it looks)\n",
        "#Kurtosis is within bounds for half the groups, but all of them have far too much skewness. Again, expected.\n",
        "\n",
        "print(stats.describe(us9_above['Global_Sales']))\n",
        "print(stats.describe(us8_9['Global_Sales']))\n",
        "print(stats.describe(us7_8['Global_Sales']))\n",
        "print(stats.describe(us6_7['Global_Sales']))\n",
        "print(stats.describe(us5_6['Global_Sales']))\n",
        "print(stats.describe(us5_below['Global_Sales']))"
      ],
      "execution_count": 0,
      "outputs": [
        {
          "output_type": "stream",
          "text": [
            "DescribeResult(nobs=199, minmax=(0.01, 1.0), mean=0.28613065326633164, variance=0.06753495254048018, skewness=1.121723520544446, kurtosis=0.2966275369942766)\n",
            "DescribeResult(nobs=1584, minmax=(0.01, 1.0), mean=0.3140277777777778, variance=0.06706273075033341, skewness=0.8598592859173049, kurtosis=-0.24525856075799535)\n",
            "DescribeResult(nobs=1715, minmax=(0.01, 0.99), mean=0.29618658892128275, variance=0.0638686466111699, skewness=0.9659130515206963, kurtosis=-0.07580803036722061)\n",
            "DescribeResult(nobs=979, minmax=(0.01, 0.99), mean=0.28697650663942803, variance=0.06097571621641381, skewness=1.0344339948876664, kurtosis=0.1862109169174655)\n",
            "DescribeResult(nobs=542, minmax=(0.01, 0.99), mean=0.26845018450184505, variance=0.05209519067464242, skewness=1.2344068166559494, kurtosis=0.9643145950950549)\n",
            "DescribeResult(nobs=499, minmax=(0.01, 1.0), mean=0.22006012024048097, variance=0.048196984330105996, skewness=1.5814052352984058, kurtosis=1.9086978589222268)\n"
          ],
          "name": "stdout"
        }
      ]
    },
    {
      "cell_type": "code",
      "metadata": {
        "id": "gncbDGVecbbE",
        "colab_type": "code",
        "outputId": "de2bf693-36aa-4b13-bae6-9713d4991dd7",
        "colab": {
          "base_uri": "https://localhost:8080/",
          "height": 34
        }
      },
      "source": [
        "#From this finding, we can see that there is indeed a significant difference of how user ratings can impact how games sell.\n",
        "\n",
        "#However, there are a lot of groups and it would be nice to know what exactly is affecting what.\n",
        "print(stats.kruskal(us9_above['Global_Sales'], us8_9['Global_Sales'], us7_8['Global_Sales'], us6_7['Global_Sales'], us5_6['Global_Sales'], us5_below['Global_Sales']))"
      ],
      "execution_count": 0,
      "outputs": [
        {
          "output_type": "stream",
          "text": [
            "KruskalResult(statistic=61.81551965179066, pvalue=5.120319699182765e-12)\n"
          ],
          "name": "stdout"
        }
      ]
    },
    {
      "cell_type": "code",
      "metadata": {
        "id": "nimE9hYq0Vk9",
        "colab_type": "code",
        "outputId": "cee52ea9-9a13-4681-af7b-6ea55c262b20",
        "colab": {
          "base_uri": "https://localhost:8080/",
          "height": 68
        }
      },
      "source": [
        "#Some of the lower groups have quite a large distribution, so if we start to shave down those lower groups and focus on higher user-scored games,\n",
        "# we start to get much less significant results\n",
        "\n",
        "print(stats.kruskal(us9_above['Global_Sales'], us8_9['Global_Sales'], us7_8['Global_Sales'], us6_7['Global_Sales'], us5_6['Global_Sales']))\n",
        "print(stats.kruskal(us9_above['Global_Sales'], us8_9['Global_Sales'], us7_8['Global_Sales'], us6_7['Global_Sales']))\n",
        "print(stats.kruskal(us9_above['Global_Sales'], us8_9['Global_Sales'], us7_8['Global_Sales']))\n",
        "\n",
        "#Essentially, what we're seeing here is, the higher the user-score becomes, the less likely it is to be an indicator of how much it makes"
      ],
      "execution_count": 0,
      "outputs": [
        {
          "output_type": "stream",
          "text": [
            "KruskalResult(statistic=11.787375775364747, pvalue=0.019004458040076576)\n",
            "KruskalResult(statistic=7.9928614408484, pvalue=0.04615946879769267)\n",
            "KruskalResult(statistic=5.312104924650889, pvalue=0.07022489070655698)\n"
          ],
          "name": "stdout"
        }
      ]
    },
    {
      "cell_type": "code",
      "metadata": {
        "id": "KfnEA-k_d88W",
        "colab_type": "code",
        "outputId": "46d6a619-9c1e-4f6b-89f5-70f882d04cc5",
        "colab": {
          "base_uri": "https://localhost:8080/",
          "height": 372
        }
      },
      "source": [
        "# This may be not be correct and frowned upon, but I went ahead and did a parametric test (Tukeys) to test this.\n",
        "# It may be from laziness, but I didn't want to do a lot of one-to-one Kruskal-Wallis's\n",
        "\n",
        "from statsmodels.stats.multicomp import pairwise_tukeyhsd\n",
        "\n",
        "tukeys = pairwise_tukeyhsd(endog = df2['Global_Sales'],\n",
        "                          groups = df2['us_group'])\n",
        "\n",
        "tukeys.summary()"
      ],
      "execution_count": 0,
      "outputs": [
        {
          "output_type": "execute_result",
          "data": {
            "text/html": [
              "<table class=\"simpletable\">\n",
              "<caption>Multiple Comparison of Means - Tukey HSD, FWER=0.05</caption>\n",
              "<tr>\n",
              "  <th>group1</th> <th>group2</th> <th>meandiff</th>  <th>p-adj</th>  <th>lower</th>   <th>upper</th> <th>reject</th>\n",
              "</tr>\n",
              "<tr>\n",
              "     <td>4</td>      <td>5</td>    <td>0.0484</td>  <td>0.0213</td> <td>0.0044</td>  <td>0.0924</td>  <td>True</td> \n",
              "</tr>\n",
              "<tr>\n",
              "     <td>4</td>      <td>6</td>    <td>0.0669</td>   <td>0.001</td> <td>0.0279</td>  <td>0.1059</td>  <td>True</td> \n",
              "</tr>\n",
              "<tr>\n",
              "     <td>4</td>      <td>7</td>    <td>0.0761</td>   <td>0.001</td> <td>0.0401</td>  <td>0.1122</td>  <td>True</td> \n",
              "</tr>\n",
              "<tr>\n",
              "     <td>4</td>      <td>8</td>     <td>0.094</td>   <td>0.001</td> <td>0.0576</td>  <td>0.1304</td>  <td>True</td> \n",
              "</tr>\n",
              "<tr>\n",
              "     <td>4</td>      <td>9</td>    <td>0.0661</td>  <td>0.0192</td> <td>0.0066</td>  <td>0.1255</td>  <td>True</td> \n",
              "</tr>\n",
              "<tr>\n",
              "     <td>5</td>      <td>6</td>    <td>0.0185</td>  <td>0.7052</td> <td>-0.0194</td> <td>0.0565</td>  <td>False</td>\n",
              "</tr>\n",
              "<tr>\n",
              "     <td>5</td>      <td>7</td>    <td>0.0277</td>  <td>0.2093</td> <td>-0.0072</td> <td>0.0627</td>  <td>False</td>\n",
              "</tr>\n",
              "<tr>\n",
              "     <td>5</td>      <td>8</td>    <td>0.0456</td>  <td>0.0032</td> <td>0.0103</td>  <td>0.0809</td>  <td>True</td> \n",
              "</tr>\n",
              "<tr>\n",
              "     <td>5</td>      <td>9</td>    <td>0.0177</td>    <td>0.9</td>  <td>-0.0411</td> <td>0.0764</td>  <td>False</td>\n",
              "</tr>\n",
              "<tr>\n",
              "     <td>6</td>      <td>7</td>    <td>0.0092</td>    <td>0.9</td>  <td>-0.0192</td> <td>0.0376</td>  <td>False</td>\n",
              "</tr>\n",
              "<tr>\n",
              "     <td>6</td>      <td>8</td>    <td>0.0271</td>  <td>0.0805</td> <td>-0.0018</td> <td>0.0559</td>  <td>False</td>\n",
              "</tr>\n",
              "<tr>\n",
              "     <td>6</td>      <td>9</td>    <td>-0.0008</td>   <td>0.9</td>  <td>-0.056</td>  <td>0.0543</td>  <td>False</td>\n",
              "</tr>\n",
              "<tr>\n",
              "     <td>7</td>      <td>8</td>    <td>0.0178</td>  <td>0.3093</td> <td>-0.0069</td> <td>0.0425</td>  <td>False</td>\n",
              "</tr>\n",
              "<tr>\n",
              "     <td>7</td>      <td>9</td>    <td>-0.0101</td>   <td>0.9</td>  <td>-0.0631</td>  <td>0.043</td>  <td>False</td>\n",
              "</tr>\n",
              "<tr>\n",
              "     <td>8</td>      <td>9</td>    <td>-0.0279</td> <td>0.6474</td> <td>-0.0812</td> <td>0.0254</td>  <td>False</td>\n",
              "</tr>\n",
              "</table>"
            ],
            "text/plain": [
              "<class 'statsmodels.iolib.table.SimpleTable'>"
            ]
          },
          "metadata": {
            "tags": []
          },
          "execution_count": 165
        }
      ]
    },
    {
      "cell_type": "code",
      "metadata": {
        "id": "rwwfCcDmfp5y",
        "colab_type": "code",
        "colab": {}
      },
      "source": [
        "#more practicing\n",
        "\n",
        "from scipy.stats import friedmanchisquare\n",
        "\n",
        "f = friedmanchisquare(us9_above['Global_Sales'], us8_9['Global_Sales'], us7_8['Global_Sales'], us6_7['Global_Sales'], us5_6['Global_Sales'], us5_below['Global_Sales'])\n",
        "print(f)"
      ],
      "execution_count": 0,
      "outputs": []
    },
    {
      "cell_type": "code",
      "metadata": {
        "id": "I__f0-a12Wzj",
        "colab_type": "code",
        "outputId": "f55d67f4-e29d-4639-d8a2-74b40685d64b",
        "colab": {
          "base_uri": "https://localhost:8080/",
          "height": 292
        }
      },
      "source": [
        "df.head()"
      ],
      "execution_count": 0,
      "outputs": [
        {
          "output_type": "execute_result",
          "data": {
            "text/html": [
              "<div>\n",
              "<style scoped>\n",
              "    .dataframe tbody tr th:only-of-type {\n",
              "        vertical-align: middle;\n",
              "    }\n",
              "\n",
              "    .dataframe tbody tr th {\n",
              "        vertical-align: top;\n",
              "    }\n",
              "\n",
              "    .dataframe thead th {\n",
              "        text-align: right;\n",
              "    }\n",
              "</style>\n",
              "<table border=\"1\" class=\"dataframe\">\n",
              "  <thead>\n",
              "    <tr style=\"text-align: right;\">\n",
              "      <th></th>\n",
              "      <th>Name</th>\n",
              "      <th>Platform</th>\n",
              "      <th>Year_of_Release</th>\n",
              "      <th>Genre</th>\n",
              "      <th>Publisher</th>\n",
              "      <th>NA_Sales</th>\n",
              "      <th>EU_Sales</th>\n",
              "      <th>JP_Sales</th>\n",
              "      <th>Other_Sales</th>\n",
              "      <th>Global_Sales</th>\n",
              "      <th>Critic_Score</th>\n",
              "      <th>Critic_Count</th>\n",
              "      <th>User_Score</th>\n",
              "      <th>User_Count</th>\n",
              "      <th>Developer</th>\n",
              "      <th>Rating</th>\n",
              "    </tr>\n",
              "  </thead>\n",
              "  <tbody>\n",
              "    <tr>\n",
              "      <th>0</th>\n",
              "      <td>Wii Sports</td>\n",
              "      <td>Wii</td>\n",
              "      <td>2006.0</td>\n",
              "      <td>Sports</td>\n",
              "      <td>Nintendo</td>\n",
              "      <td>41.36</td>\n",
              "      <td>28.96</td>\n",
              "      <td>3.77</td>\n",
              "      <td>8.45</td>\n",
              "      <td>82.53</td>\n",
              "      <td>76.0</td>\n",
              "      <td>51.0</td>\n",
              "      <td>8</td>\n",
              "      <td>322.0</td>\n",
              "      <td>Nintendo</td>\n",
              "      <td>E</td>\n",
              "    </tr>\n",
              "    <tr>\n",
              "      <th>1</th>\n",
              "      <td>Super Mario Bros.</td>\n",
              "      <td>NES</td>\n",
              "      <td>1985.0</td>\n",
              "      <td>Platform</td>\n",
              "      <td>Nintendo</td>\n",
              "      <td>29.08</td>\n",
              "      <td>3.58</td>\n",
              "      <td>6.81</td>\n",
              "      <td>0.77</td>\n",
              "      <td>40.24</td>\n",
              "      <td>NaN</td>\n",
              "      <td>NaN</td>\n",
              "      <td>NaN</td>\n",
              "      <td>NaN</td>\n",
              "      <td>NaN</td>\n",
              "      <td>NaN</td>\n",
              "    </tr>\n",
              "    <tr>\n",
              "      <th>2</th>\n",
              "      <td>Mario Kart Wii</td>\n",
              "      <td>Wii</td>\n",
              "      <td>2008.0</td>\n",
              "      <td>Racing</td>\n",
              "      <td>Nintendo</td>\n",
              "      <td>15.68</td>\n",
              "      <td>12.76</td>\n",
              "      <td>3.79</td>\n",
              "      <td>3.29</td>\n",
              "      <td>35.52</td>\n",
              "      <td>82.0</td>\n",
              "      <td>73.0</td>\n",
              "      <td>8.3</td>\n",
              "      <td>709.0</td>\n",
              "      <td>Nintendo</td>\n",
              "      <td>E</td>\n",
              "    </tr>\n",
              "    <tr>\n",
              "      <th>3</th>\n",
              "      <td>Wii Sports Resort</td>\n",
              "      <td>Wii</td>\n",
              "      <td>2009.0</td>\n",
              "      <td>Sports</td>\n",
              "      <td>Nintendo</td>\n",
              "      <td>15.61</td>\n",
              "      <td>10.93</td>\n",
              "      <td>3.28</td>\n",
              "      <td>2.95</td>\n",
              "      <td>32.77</td>\n",
              "      <td>80.0</td>\n",
              "      <td>73.0</td>\n",
              "      <td>8</td>\n",
              "      <td>192.0</td>\n",
              "      <td>Nintendo</td>\n",
              "      <td>E</td>\n",
              "    </tr>\n",
              "    <tr>\n",
              "      <th>4</th>\n",
              "      <td>Pokemon Red/Pokemon Blue</td>\n",
              "      <td>GB</td>\n",
              "      <td>1996.0</td>\n",
              "      <td>Role-Playing</td>\n",
              "      <td>Nintendo</td>\n",
              "      <td>11.27</td>\n",
              "      <td>8.89</td>\n",
              "      <td>10.22</td>\n",
              "      <td>1.00</td>\n",
              "      <td>31.37</td>\n",
              "      <td>NaN</td>\n",
              "      <td>NaN</td>\n",
              "      <td>NaN</td>\n",
              "      <td>NaN</td>\n",
              "      <td>NaN</td>\n",
              "      <td>NaN</td>\n",
              "    </tr>\n",
              "  </tbody>\n",
              "</table>\n",
              "</div>"
            ],
            "text/plain": [
              "                       Name Platform  ...  Developer Rating\n",
              "0                Wii Sports      Wii  ...   Nintendo      E\n",
              "1         Super Mario Bros.      NES  ...        NaN    NaN\n",
              "2            Mario Kart Wii      Wii  ...   Nintendo      E\n",
              "3         Wii Sports Resort      Wii  ...   Nintendo      E\n",
              "4  Pokemon Red/Pokemon Blue       GB  ...        NaN    NaN\n",
              "\n",
              "[5 rows x 16 columns]"
            ]
          },
          "metadata": {
            "tags": []
          },
          "execution_count": 59
        }
      ]
    },
    {
      "cell_type": "code",
      "metadata": {
        "id": "mwm6wPTSKq4l",
        "colab_type": "code",
        "outputId": "57b31d80-8f01-40a7-f353-48465cd8a077",
        "colab": {
          "base_uri": "https://localhost:8080/",
          "height": 441
        }
      },
      "source": [
        "plt.figure(figsize=(10,6))\n",
        "sns.countplot(x='Genre', data=df, order=df['Genre'].value_counts().index)\n",
        "plt.title=('# of games')\n",
        "plt.tight_layout()\n",
        "plt.show()"
      ],
      "execution_count": 0,
      "outputs": [
        {
          "output_type": "display_data",
          "data": {
            "image/png": "[encoded data removed]",
            "text/plain": [
              "<Figure size 720x432 with 1 Axes>"
            ]
          },
          "metadata": {
            "tags": []
          }
        }
      ]
    },
    {
      "cell_type": "code",
      "metadata": {
        "id": "kshP_KGpLQOv",
        "colab_type": "code",
        "outputId": "36e5c322-2e75-4801-f7ff-94f69a132714",
        "colab": {
          "base_uri": "https://localhost:8080/",
          "height": 408
        }
      },
      "source": [
        "dff = df\n",
        "\n",
        "dff.info()"
      ],
      "execution_count": 0,
      "outputs": [
        {
          "output_type": "stream",
          "text": [
            "<class 'pandas.core.frame.DataFrame'>\n",
            "RangeIndex: 16719 entries, 0 to 16718\n",
            "Data columns (total 16 columns):\n",
            " #   Column           Non-Null Count  Dtype  \n",
            "---  ------           --------------  -----  \n",
            " 0   Name             16717 non-null  object \n",
            " 1   Platform         16719 non-null  object \n",
            " 2   Year_of_Release  16450 non-null  float64\n",
            " 3   Genre            16717 non-null  object \n",
            " 4   Publisher        16665 non-null  object \n",
            " 5   NA_Sales         16719 non-null  float64\n",
            " 6   EU_Sales         16719 non-null  float64\n",
            " 7   JP_Sales         16719 non-null  float64\n",
            " 8   Other_Sales      16719 non-null  float64\n",
            " 9   Global_Sales     16719 non-null  float64\n",
            " 10  Critic_Score     8137 non-null   float64\n",
            " 11  Critic_Count     8137 non-null   float64\n",
            " 12  User_Score       10015 non-null  object \n",
            " 13  User_Count       7590 non-null   float64\n",
            " 14  Developer        10096 non-null  object \n",
            " 15  Rating           9950 non-null   object \n",
            "dtypes: float64(9), object(7)\n",
            "memory usage: 2.0+ MB\n"
          ],
          "name": "stdout"
        }
      ]
    },
    {
      "cell_type": "code",
      "metadata": {
        "id": "NhGGZ6BNMM8V",
        "colab_type": "code",
        "outputId": "a7d6eab7-43cc-42aa-b3c8-25e7f5f300d1",
        "colab": {
          "base_uri": "https://localhost:8080/",
          "height": 408
        }
      },
      "source": [
        "dff2 = dff[dff['User_Count'].notna()]\n",
        "\n",
        "dff2.info()\n",
        "\n",
        "dff2[dff2['Critic_Score'].isnull()]\n",
        "\n",
        "dff2['US_Float'] = dff2['User_Score'].astype(float)"
      ],
      "execution_count": 0,
      "outputs": [
        {
          "output_type": "stream",
          "text": [
            "<class 'pandas.core.frame.DataFrame'>\n",
            "Int64Index: 7590 entries, 0 to 16709\n",
            "Data columns (total 16 columns):\n",
            " #   Column           Non-Null Count  Dtype  \n",
            "---  ------           --------------  -----  \n",
            " 0   Name             7590 non-null   object \n",
            " 1   Platform         7590 non-null   object \n",
            " 2   Year_of_Release  7463 non-null   float64\n",
            " 3   Genre            7590 non-null   object \n",
            " 4   Publisher        7584 non-null   object \n",
            " 5   NA_Sales         7590 non-null   float64\n",
            " 6   EU_Sales         7590 non-null   float64\n",
            " 7   JP_Sales         7590 non-null   float64\n",
            " 8   Other_Sales      7590 non-null   float64\n",
            " 9   Global_Sales     7590 non-null   float64\n",
            " 10  Critic_Score     7017 non-null   float64\n",
            " 11  Critic_Count     7017 non-null   float64\n",
            " 12  User_Score       7590 non-null   object \n",
            " 13  User_Count       7590 non-null   float64\n",
            " 14  Developer        7579 non-null   object \n",
            " 15  Rating           7504 non-null   object \n",
            "dtypes: float64(9), object(7)\n",
            "memory usage: 1008.0+ KB\n"
          ],
          "name": "stdout"
        }
      ]
    },
    {
      "cell_type": "code",
      "metadata": {
        "id": "eW7MrgUMOUi3",
        "colab_type": "code",
        "colab": {}
      },
      "source": [
        "# dff2['User_Score_Group'] = pd.cut(x=dff2['US_Float'], bins=[0, 1.0, 2.0, 3.0, 4.0, 5.0, 6.0, 7.0, 8.0, 9.0, 10])\n",
        "dff2['User_Score_Group'] = pd.cut(x=dff2['US_Float'], bins=[0, 0.9, 1.9, 2.9, 3.9, 4.9, 5.9, 6.9, 7.9, 8.9, 10], labels= ['0', '1', '2', '3', '4', '5', '6', '7', '8', '9 and above'])"
      ],
      "execution_count": 0,
      "outputs": []
    },
    {
      "cell_type": "code",
      "metadata": {
        "id": "MW50wmT9cCE2",
        "colab_type": "code",
        "outputId": "82dec2d0-e9d0-492b-90d7-64df806914cf",
        "colab": {
          "base_uri": "https://localhost:8080/",
          "height": 711
        }
      },
      "source": [
        "dff2[dff2['US_Float'] == 8.0]"
      ],
      "execution_count": 0,
      "outputs": [
        {
          "output_type": "execute_result",
          "data": {
            "text/html": [
              "<div>\n",
              "<style scoped>\n",
              "    .dataframe tbody tr th:only-of-type {\n",
              "        vertical-align: middle;\n",
              "    }\n",
              "\n",
              "    .dataframe tbody tr th {\n",
              "        vertical-align: top;\n",
              "    }\n",
              "\n",
              "    .dataframe thead th {\n",
              "        text-align: right;\n",
              "    }\n",
              "</style>\n",
              "<table border=\"1\" class=\"dataframe\">\n",
              "  <thead>\n",
              "    <tr style=\"text-align: right;\">\n",
              "      <th></th>\n",
              "      <th>Name</th>\n",
              "      <th>Platform</th>\n",
              "      <th>Year_of_Release</th>\n",
              "      <th>Genre</th>\n",
              "      <th>Publisher</th>\n",
              "      <th>NA_Sales</th>\n",
              "      <th>EU_Sales</th>\n",
              "      <th>JP_Sales</th>\n",
              "      <th>Other_Sales</th>\n",
              "      <th>Global_Sales</th>\n",
              "      <th>Critic_Score</th>\n",
              "      <th>Critic_Count</th>\n",
              "      <th>User_Score</th>\n",
              "      <th>User_Count</th>\n",
              "      <th>Developer</th>\n",
              "      <th>Rating</th>\n",
              "      <th>US_Float</th>\n",
              "      <th>User_Score_Group</th>\n",
              "    </tr>\n",
              "  </thead>\n",
              "  <tbody>\n",
              "    <tr>\n",
              "      <th>0</th>\n",
              "      <td>Wii Sports</td>\n",
              "      <td>Wii</td>\n",
              "      <td>2006.0</td>\n",
              "      <td>Sports</td>\n",
              "      <td>Nintendo</td>\n",
              "      <td>41.36</td>\n",
              "      <td>28.96</td>\n",
              "      <td>3.77</td>\n",
              "      <td>8.45</td>\n",
              "      <td>82.53</td>\n",
              "      <td>76.0</td>\n",
              "      <td>51.0</td>\n",
              "      <td>8</td>\n",
              "      <td>322.0</td>\n",
              "      <td>Nintendo</td>\n",
              "      <td>E</td>\n",
              "      <td>8.0</td>\n",
              "      <td>8</td>\n",
              "    </tr>\n",
              "    <tr>\n",
              "      <th>3</th>\n",
              "      <td>Wii Sports Resort</td>\n",
              "      <td>Wii</td>\n",
              "      <td>2009.0</td>\n",
              "      <td>Sports</td>\n",
              "      <td>Nintendo</td>\n",
              "      <td>15.61</td>\n",
              "      <td>10.93</td>\n",
              "      <td>3.28</td>\n",
              "      <td>2.95</td>\n",
              "      <td>32.77</td>\n",
              "      <td>80.0</td>\n",
              "      <td>73.0</td>\n",
              "      <td>8</td>\n",
              "      <td>192.0</td>\n",
              "      <td>Nintendo</td>\n",
              "      <td>E</td>\n",
              "      <td>8.0</td>\n",
              "      <td>8</td>\n",
              "    </tr>\n",
              "    <tr>\n",
              "      <th>103</th>\n",
              "      <td>Just Dance</td>\n",
              "      <td>Wii</td>\n",
              "      <td>2009.0</td>\n",
              "      <td>Misc</td>\n",
              "      <td>Ubisoft</td>\n",
              "      <td>3.48</td>\n",
              "      <td>2.99</td>\n",
              "      <td>0.00</td>\n",
              "      <td>0.73</td>\n",
              "      <td>7.20</td>\n",
              "      <td>49.0</td>\n",
              "      <td>21.0</td>\n",
              "      <td>8</td>\n",
              "      <td>110.0</td>\n",
              "      <td>Ubisoft Paris</td>\n",
              "      <td>E10+</td>\n",
              "      <td>8.0</td>\n",
              "      <td>8</td>\n",
              "    </tr>\n",
              "    <tr>\n",
              "      <th>161</th>\n",
              "      <td>Forza Motorsport 3</td>\n",
              "      <td>X360</td>\n",
              "      <td>2009.0</td>\n",
              "      <td>Racing</td>\n",
              "      <td>Microsoft Game Studios</td>\n",
              "      <td>2.99</td>\n",
              "      <td>1.90</td>\n",
              "      <td>0.10</td>\n",
              "      <td>0.50</td>\n",
              "      <td>5.49</td>\n",
              "      <td>92.0</td>\n",
              "      <td>90.0</td>\n",
              "      <td>8</td>\n",
              "      <td>516.0</td>\n",
              "      <td>Turn 10</td>\n",
              "      <td>E</td>\n",
              "      <td>8.0</td>\n",
              "      <td>8</td>\n",
              "    </tr>\n",
              "    <tr>\n",
              "      <th>200</th>\n",
              "      <td>The Legend of Zelda: Phantom Hourglass</td>\n",
              "      <td>DS</td>\n",
              "      <td>2007.0</td>\n",
              "      <td>Action</td>\n",
              "      <td>Nintendo</td>\n",
              "      <td>1.85</td>\n",
              "      <td>1.80</td>\n",
              "      <td>0.95</td>\n",
              "      <td>0.48</td>\n",
              "      <td>5.08</td>\n",
              "      <td>90.0</td>\n",
              "      <td>57.0</td>\n",
              "      <td>8</td>\n",
              "      <td>416.0</td>\n",
              "      <td>Nintendo</td>\n",
              "      <td>E</td>\n",
              "      <td>8.0</td>\n",
              "      <td>8</td>\n",
              "    </tr>\n",
              "    <tr>\n",
              "      <th>...</th>\n",
              "      <td>...</td>\n",
              "      <td>...</td>\n",
              "      <td>...</td>\n",
              "      <td>...</td>\n",
              "      <td>...</td>\n",
              "      <td>...</td>\n",
              "      <td>...</td>\n",
              "      <td>...</td>\n",
              "      <td>...</td>\n",
              "      <td>...</td>\n",
              "      <td>...</td>\n",
              "      <td>...</td>\n",
              "      <td>...</td>\n",
              "      <td>...</td>\n",
              "      <td>...</td>\n",
              "      <td>...</td>\n",
              "      <td>...</td>\n",
              "      <td>...</td>\n",
              "    </tr>\n",
              "    <tr>\n",
              "      <th>16377</th>\n",
              "      <td>Dokuro</td>\n",
              "      <td>PSV</td>\n",
              "      <td>2012.0</td>\n",
              "      <td>Action</td>\n",
              "      <td>GungHo</td>\n",
              "      <td>0.00</td>\n",
              "      <td>0.00</td>\n",
              "      <td>0.01</td>\n",
              "      <td>0.00</td>\n",
              "      <td>0.01</td>\n",
              "      <td>76.0</td>\n",
              "      <td>26.0</td>\n",
              "      <td>8</td>\n",
              "      <td>18.0</td>\n",
              "      <td>Game Arts</td>\n",
              "      <td>E10+</td>\n",
              "      <td>8.0</td>\n",
              "      <td>8</td>\n",
              "    </tr>\n",
              "    <tr>\n",
              "      <th>16410</th>\n",
              "      <td>The Chronicles of Riddick: Assault on Dark Athena</td>\n",
              "      <td>PC</td>\n",
              "      <td>2009.0</td>\n",
              "      <td>Shooter</td>\n",
              "      <td>Vivendi Games</td>\n",
              "      <td>0.00</td>\n",
              "      <td>0.01</td>\n",
              "      <td>0.00</td>\n",
              "      <td>0.00</td>\n",
              "      <td>0.01</td>\n",
              "      <td>80.0</td>\n",
              "      <td>26.0</td>\n",
              "      <td>8</td>\n",
              "      <td>136.0</td>\n",
              "      <td>Starbreeze</td>\n",
              "      <td>M</td>\n",
              "      <td>8.0</td>\n",
              "      <td>8</td>\n",
              "    </tr>\n",
              "    <tr>\n",
              "      <th>16549</th>\n",
              "      <td>Madagascar: Escape 2 Africa</td>\n",
              "      <td>PC</td>\n",
              "      <td>2008.0</td>\n",
              "      <td>Action</td>\n",
              "      <td>Activision</td>\n",
              "      <td>0.01</td>\n",
              "      <td>0.00</td>\n",
              "      <td>0.00</td>\n",
              "      <td>0.00</td>\n",
              "      <td>0.01</td>\n",
              "      <td>58.0</td>\n",
              "      <td>6.0</td>\n",
              "      <td>8</td>\n",
              "      <td>4.0</td>\n",
              "      <td>Aspyr</td>\n",
              "      <td>E10+</td>\n",
              "      <td>8.0</td>\n",
              "      <td>8</td>\n",
              "    </tr>\n",
              "    <tr>\n",
              "      <th>16569</th>\n",
              "      <td>Egg Mania: Eggstreme Madness</td>\n",
              "      <td>GC</td>\n",
              "      <td>2002.0</td>\n",
              "      <td>Puzzle</td>\n",
              "      <td>Kemco</td>\n",
              "      <td>0.01</td>\n",
              "      <td>0.00</td>\n",
              "      <td>0.00</td>\n",
              "      <td>0.00</td>\n",
              "      <td>0.01</td>\n",
              "      <td>64.0</td>\n",
              "      <td>7.0</td>\n",
              "      <td>8</td>\n",
              "      <td>4.0</td>\n",
              "      <td>Kemco</td>\n",
              "      <td>E</td>\n",
              "      <td>8.0</td>\n",
              "      <td>8</td>\n",
              "    </tr>\n",
              "    <tr>\n",
              "      <th>16665</th>\n",
              "      <td>Bookworm Deluxe</td>\n",
              "      <td>PC</td>\n",
              "      <td>2006.0</td>\n",
              "      <td>Puzzle</td>\n",
              "      <td>PopCap Games</td>\n",
              "      <td>0.01</td>\n",
              "      <td>0.00</td>\n",
              "      <td>0.00</td>\n",
              "      <td>0.00</td>\n",
              "      <td>0.01</td>\n",
              "      <td>NaN</td>\n",
              "      <td>NaN</td>\n",
              "      <td>8</td>\n",
              "      <td>6.0</td>\n",
              "      <td>PopCap</td>\n",
              "      <td>E</td>\n",
              "      <td>8.0</td>\n",
              "      <td>8</td>\n",
              "    </tr>\n",
              "  </tbody>\n",
              "</table>\n",
              "<p>290 rows × 18 columns</p>\n",
              "</div>"
            ],
            "text/plain": [
              "                                                    Name  ... User_Score_Group\n",
              "0                                             Wii Sports  ...                8\n",
              "3                                      Wii Sports Resort  ...                8\n",
              "103                                           Just Dance  ...                8\n",
              "161                                   Forza Motorsport 3  ...                8\n",
              "200               The Legend of Zelda: Phantom Hourglass  ...                8\n",
              "...                                                  ...  ...              ...\n",
              "16377                                             Dokuro  ...                8\n",
              "16410  The Chronicles of Riddick: Assault on Dark Athena  ...                8\n",
              "16549                        Madagascar: Escape 2 Africa  ...                8\n",
              "16569                       Egg Mania: Eggstreme Madness  ...                8\n",
              "16665                                    Bookworm Deluxe  ...                8\n",
              "\n",
              "[290 rows x 18 columns]"
            ]
          },
          "metadata": {
            "tags": []
          },
          "execution_count": 103
        }
      ]
    },
    {
      "cell_type": "code",
      "metadata": {
        "id": "ovygXd3pcDJv",
        "colab_type": "code",
        "outputId": "281668f7-3ece-4cba-8224-8ada379b38ad",
        "colab": {
          "base_uri": "https://localhost:8080/",
          "height": 441
        }
      },
      "source": [
        "plt.figure(figsize=(10,6))\n",
        "sns.countplot(x='User_Score_Group', data=dff2, order=dff2['User_Score_Group'].value_counts().index)\n",
        "plt.title=('# of User Scores by Group')\n",
        "plt.tight_layout()\n",
        "plt.show()"
      ],
      "execution_count": 0,
      "outputs": [
        {
          "output_type": "display_data",
          "data": {
            "image/png": "[encoded data removed]",
            "text/plain": [
              "<Figure size 720x432 with 1 Axes>"
            ]
          },
          "metadata": {
            "tags": []
          }
        }
      ]
    },
    {
      "cell_type": "code",
      "metadata": {
        "id": "DAUNxcXkgLjz",
        "colab_type": "code",
        "outputId": "178da2bc-64c6-4346-8418-e4bc2b3c813b",
        "colab": {
          "base_uri": "https://localhost:8080/",
          "height": 700
        }
      },
      "source": [
        "# ANALYSIS OF YEAR OF RELEASE AND SALES BY REGION\n",
        "df.info()\n",
        "df.head()"
      ],
      "execution_count": 0,
      "outputs": [
        {
          "output_type": "stream",
          "text": [
            "<class 'pandas.core.frame.DataFrame'>\n",
            "RangeIndex: 16719 entries, 0 to 16718\n",
            "Data columns (total 17 columns):\n",
            " #   Column            Non-Null Count  Dtype   \n",
            "---  ------            --------------  -----   \n",
            " 0   Name              16717 non-null  object  \n",
            " 1   Platform          16719 non-null  object  \n",
            " 2   Year_of_Release   16450 non-null  float64 \n",
            " 3   Genre             16717 non-null  object  \n",
            " 4   Publisher         16665 non-null  object  \n",
            " 5   NA_Sales          16719 non-null  float64 \n",
            " 6   EU_Sales          16719 non-null  float64 \n",
            " 7   JP_Sales          16719 non-null  float64 \n",
            " 8   Other_Sales       16719 non-null  float64 \n",
            " 9   Global_Sales      16719 non-null  float64 \n",
            " 10  Critic_Score      8137 non-null   float64 \n",
            " 11  Critic_Count      8137 non-null   float64 \n",
            " 12  User_Score        10015 non-null  object  \n",
            " 13  User_Count        7590 non-null   float64 \n",
            " 14  Developer         10096 non-null  object  \n",
            " 15  Rating            9950 non-null   object  \n",
            " 16  five_year_period  16446 non-null  category\n",
            "dtypes: category(1), float64(9), object(7)\n",
            "memory usage: 2.1+ MB\n"
          ],
          "name": "stdout"
        },
        {
          "output_type": "execute_result",
          "data": {
            "text/html": [
              "<div>\n",
              "<style scoped>\n",
              "    .dataframe tbody tr th:only-of-type {\n",
              "        vertical-align: middle;\n",
              "    }\n",
              "\n",
              "    .dataframe tbody tr th {\n",
              "        vertical-align: top;\n",
              "    }\n",
              "\n",
              "    .dataframe thead th {\n",
              "        text-align: right;\n",
              "    }\n",
              "</style>\n",
              "<table border=\"1\" class=\"dataframe\">\n",
              "  <thead>\n",
              "    <tr style=\"text-align: right;\">\n",
              "      <th></th>\n",
              "      <th>Name</th>\n",
              "      <th>Platform</th>\n",
              "      <th>Year_of_Release</th>\n",
              "      <th>Genre</th>\n",
              "      <th>Publisher</th>\n",
              "      <th>NA_Sales</th>\n",
              "      <th>EU_Sales</th>\n",
              "      <th>JP_Sales</th>\n",
              "      <th>Other_Sales</th>\n",
              "      <th>Global_Sales</th>\n",
              "      <th>Critic_Score</th>\n",
              "      <th>Critic_Count</th>\n",
              "      <th>User_Score</th>\n",
              "      <th>User_Count</th>\n",
              "      <th>Developer</th>\n",
              "      <th>Rating</th>\n",
              "      <th>five_year_period</th>\n",
              "    </tr>\n",
              "  </thead>\n",
              "  <tbody>\n",
              "    <tr>\n",
              "      <th>0</th>\n",
              "      <td>Wii Sports</td>\n",
              "      <td>Wii</td>\n",
              "      <td>2006.0</td>\n",
              "      <td>Sports</td>\n",
              "      <td>Nintendo</td>\n",
              "      <td>41.36</td>\n",
              "      <td>28.96</td>\n",
              "      <td>3.77</td>\n",
              "      <td>8.45</td>\n",
              "      <td>82.53</td>\n",
              "      <td>76.0</td>\n",
              "      <td>51.0</td>\n",
              "      <td>8</td>\n",
              "      <td>322.0</td>\n",
              "      <td>Nintendo</td>\n",
              "      <td>E</td>\n",
              "      <td>2005-2009</td>\n",
              "    </tr>\n",
              "    <tr>\n",
              "      <th>1</th>\n",
              "      <td>Super Mario Bros.</td>\n",
              "      <td>NES</td>\n",
              "      <td>1985.0</td>\n",
              "      <td>Platform</td>\n",
              "      <td>Nintendo</td>\n",
              "      <td>29.08</td>\n",
              "      <td>3.58</td>\n",
              "      <td>6.81</td>\n",
              "      <td>0.77</td>\n",
              "      <td>40.24</td>\n",
              "      <td>NaN</td>\n",
              "      <td>NaN</td>\n",
              "      <td>NaN</td>\n",
              "      <td>NaN</td>\n",
              "      <td>NaN</td>\n",
              "      <td>NaN</td>\n",
              "      <td>1985-1989</td>\n",
              "    </tr>\n",
              "    <tr>\n",
              "      <th>2</th>\n",
              "      <td>Mario Kart Wii</td>\n",
              "      <td>Wii</td>\n",
              "      <td>2008.0</td>\n",
              "      <td>Racing</td>\n",
              "      <td>Nintendo</td>\n",
              "      <td>15.68</td>\n",
              "      <td>12.76</td>\n",
              "      <td>3.79</td>\n",
              "      <td>3.29</td>\n",
              "      <td>35.52</td>\n",
              "      <td>82.0</td>\n",
              "      <td>73.0</td>\n",
              "      <td>8.3</td>\n",
              "      <td>709.0</td>\n",
              "      <td>Nintendo</td>\n",
              "      <td>E</td>\n",
              "      <td>2005-2009</td>\n",
              "    </tr>\n",
              "    <tr>\n",
              "      <th>3</th>\n",
              "      <td>Wii Sports Resort</td>\n",
              "      <td>Wii</td>\n",
              "      <td>2009.0</td>\n",
              "      <td>Sports</td>\n",
              "      <td>Nintendo</td>\n",
              "      <td>15.61</td>\n",
              "      <td>10.93</td>\n",
              "      <td>3.28</td>\n",
              "      <td>2.95</td>\n",
              "      <td>32.77</td>\n",
              "      <td>80.0</td>\n",
              "      <td>73.0</td>\n",
              "      <td>8</td>\n",
              "      <td>192.0</td>\n",
              "      <td>Nintendo</td>\n",
              "      <td>E</td>\n",
              "      <td>2005-2009</td>\n",
              "    </tr>\n",
              "    <tr>\n",
              "      <th>4</th>\n",
              "      <td>Pokemon Red/Pokemon Blue</td>\n",
              "      <td>GB</td>\n",
              "      <td>1996.0</td>\n",
              "      <td>Role-Playing</td>\n",
              "      <td>Nintendo</td>\n",
              "      <td>11.27</td>\n",
              "      <td>8.89</td>\n",
              "      <td>10.22</td>\n",
              "      <td>1.00</td>\n",
              "      <td>31.37</td>\n",
              "      <td>NaN</td>\n",
              "      <td>NaN</td>\n",
              "      <td>NaN</td>\n",
              "      <td>NaN</td>\n",
              "      <td>NaN</td>\n",
              "      <td>NaN</td>\n",
              "      <td>1995-1999</td>\n",
              "    </tr>\n",
              "  </tbody>\n",
              "</table>\n",
              "</div>"
            ],
            "text/plain": [
              "                       Name Platform  ...  Rating five_year_period\n",
              "0                Wii Sports      Wii  ...       E        2005-2009\n",
              "1         Super Mario Bros.      NES  ...     NaN        1985-1989\n",
              "2            Mario Kart Wii      Wii  ...       E        2005-2009\n",
              "3         Wii Sports Resort      Wii  ...       E        2005-2009\n",
              "4  Pokemon Red/Pokemon Blue       GB  ...     NaN        1995-1999\n",
              "\n",
              "[5 rows x 17 columns]"
            ]
          },
          "metadata": {
            "tags": []
          },
          "execution_count": 18
        }
      ]
    },
    {
      "cell_type": "code",
      "metadata": {
        "id": "rS0M7fpWQa-P",
        "colab_type": "code",
        "outputId": "77ae3161-9e4c-421a-dacd-9c7f79742b91",
        "colab": {
          "base_uri": "https://localhost:8080/",
          "height": 323
        }
      },
      "source": [
        "df.isnull().sum()"
      ],
      "execution_count": 0,
      "outputs": [
        {
          "output_type": "execute_result",
          "data": {
            "text/plain": [
              "Name                   2\n",
              "Platform               0\n",
              "Year_of_Release      269\n",
              "Genre                  2\n",
              "Publisher             54\n",
              "NA_Sales               0\n",
              "EU_Sales               0\n",
              "JP_Sales               0\n",
              "Other_Sales            0\n",
              "Global_Sales           0\n",
              "Critic_Score        8582\n",
              "Critic_Count        8582\n",
              "User_Score          6704\n",
              "User_Count          9129\n",
              "Developer           6623\n",
              "Rating              6769\n",
              "five_year_period     273\n",
              "dtype: int64"
            ]
          },
          "metadata": {
            "tags": []
          },
          "execution_count": 19
        }
      ]
    },
    {
      "cell_type": "code",
      "metadata": {
        "id": "ewCrLzojQvNL",
        "colab_type": "code",
        "colab": {}
      },
      "source": [
        "dff3 = df[df['Year_of_Release'].notna()]"
      ],
      "execution_count": 0,
      "outputs": []
    },
    {
      "cell_type": "code",
      "metadata": {
        "id": "SWdWg7u2Q3jn",
        "colab_type": "code",
        "outputId": "bc620571-1049-41d5-d976-568861480596",
        "colab": {
          "base_uri": "https://localhost:8080/",
          "height": 323
        }
      },
      "source": [
        "dff3.isnull().sum()"
      ],
      "execution_count": 0,
      "outputs": [
        {
          "output_type": "execute_result",
          "data": {
            "text/plain": [
              "Name                   2\n",
              "Platform               0\n",
              "Year_of_Release        0\n",
              "Genre                  2\n",
              "Publisher             32\n",
              "NA_Sales               0\n",
              "EU_Sales               0\n",
              "JP_Sales               0\n",
              "Other_Sales            0\n",
              "Global_Sales           0\n",
              "Critic_Score        8467\n",
              "Critic_Count        8467\n",
              "User_Score          6610\n",
              "User_Count          8987\n",
              "Developer           6543\n",
              "Rating              6681\n",
              "five_year_period       4\n",
              "dtype: int64"
            ]
          },
          "metadata": {
            "tags": []
          },
          "execution_count": 7
        }
      ]
    },
    {
      "cell_type": "code",
      "metadata": {
        "id": "7GcHD2YzQ53-",
        "colab_type": "code",
        "outputId": "e0795e88-e313-4e53-c469-f1ee9a677094",
        "colab": {
          "base_uri": "https://localhost:8080/",
          "height": 441
        }
      },
      "source": [
        "plt.figure(figsize=(10,6))\n",
        "sns.countplot(x='five_year_period', data=dff3, order=dff3['five_year_period'].value_counts().index)\n",
        "plt.title=('# of games logged by 5 year period')\n",
        "plt.tight_layout()\n",
        "plt.show()"
      ],
      "execution_count": 0,
      "outputs": [
        {
          "output_type": "display_data",
          "data": {
            "image/png": "[encoded data removed]",
            "text/plain": [
              "<Figure size 720x432 with 1 Axes>"
            ]
          },
          "metadata": {
            "tags": [],
            "needs_background": "light"
          }
        }
      ]
    },
    {
      "cell_type": "code",
      "metadata": {
        "id": "hQqXHsj8RLNq",
        "colab_type": "code",
        "outputId": "be0e7f3a-b2fe-4e1a-ecf2-1263691e99b7",
        "colab": {
          "base_uri": "https://localhost:8080/",
          "height": 425
        }
      },
      "source": [
        "dff4 = dff3[(dff3['Global_Sales'] > .1) & (dff3['Global_Sales'] <= 1.0)]\n",
        "df1980 = dff4[dff4['five_year_period'] == '1980-1984']\n",
        "df1980.info()"
      ],
      "execution_count": 0,
      "outputs": [
        {
          "output_type": "stream",
          "text": [
            "<class 'pandas.core.frame.DataFrame'>\n",
            "Int64Index: 82 entries, 2131 to 9488\n",
            "Data columns (total 17 columns):\n",
            " #   Column            Non-Null Count  Dtype   \n",
            "---  ------            --------------  -----   \n",
            " 0   Name              82 non-null     object  \n",
            " 1   Platform          82 non-null     object  \n",
            " 2   Year_of_Release   82 non-null     float64 \n",
            " 3   Genre             82 non-null     object  \n",
            " 4   Publisher         82 non-null     object  \n",
            " 5   NA_Sales          82 non-null     float64 \n",
            " 6   EU_Sales          82 non-null     float64 \n",
            " 7   JP_Sales          82 non-null     float64 \n",
            " 8   Other_Sales       82 non-null     float64 \n",
            " 9   Global_Sales      82 non-null     float64 \n",
            " 10  Critic_Score      0 non-null      float64 \n",
            " 11  Critic_Count      0 non-null      float64 \n",
            " 12  User_Score        0 non-null      object  \n",
            " 13  User_Count        0 non-null      float64 \n",
            " 14  Developer         0 non-null      object  \n",
            " 15  Rating            0 non-null      object  \n",
            " 16  five_year_period  82 non-null     category\n",
            "dtypes: category(1), float64(9), object(7)\n",
            "memory usage: 11.3+ KB\n"
          ],
          "name": "stdout"
        }
      ]
    },
    {
      "cell_type": "code",
      "metadata": {
        "id": "ThAvG7BvRcHN",
        "colab_type": "code",
        "outputId": "a13d239c-cf13-45c4-c0d4-49281606eea2",
        "colab": {
          "base_uri": "https://localhost:8080/",
          "height": 456
        }
      },
      "source": [
        "#how would one continue with statistical analysis here? Some data is normally distributed while other is not\n",
        "\n",
        "dff4['Global_Sales'].hist(by=dff4['five_year_period'])"
      ],
      "execution_count": 0,
      "outputs": [
        {
          "output_type": "execute_result",
          "data": {
            "text/plain": [
              "array([[<matplotlib.axes._subplots.AxesSubplot object at 0x7f8b723e1518>,\n",
              "        <matplotlib.axes._subplots.AxesSubplot object at 0x7f8b72412780>,\n",
              "        <matplotlib.axes._subplots.AxesSubplot object at 0x7f8b723c39e8>],\n",
              "       [<matplotlib.axes._subplots.AxesSubplot object at 0x7f8b72379c50>,\n",
              "        <matplotlib.axes._subplots.AxesSubplot object at 0x7f8b7232deb8>,\n",
              "        <matplotlib.axes._subplots.AxesSubplot object at 0x7f8b722ed160>],\n",
              "       [<matplotlib.axes._subplots.AxesSubplot object at 0x7f8b722a23c8>,\n",
              "        <matplotlib.axes._subplots.AxesSubplot object at 0x7f8b722d55f8>,\n",
              "        <matplotlib.axes._subplots.AxesSubplot object at 0x7f8b722d5668>]],\n",
              "      dtype=object)"
            ]
          },
          "metadata": {
            "tags": []
          },
          "execution_count": 10
        },
        {
          "output_type": "display_data",
          "data": {
            "image/png": "[encoded data removed]",
            "text/plain": [
              "<Figure size 432x288 with 9 Axes>"
            ]
          },
          "metadata": {
            "tags": [],
            "needs_background": "light"
          }
        }
      ]
    },
    {
      "cell_type": "code",
      "metadata": {
        "id": "s89OkFjmRrTS",
        "colab_type": "code",
        "colab": {}
      },
      "source": [
        "df1980['Global_Sales'].unique()\n",
        "df1980 = df1980[((df1980['Global_Sales'] <= 1.0) & (df1980['Global_Sales'] > .10))]"
      ],
      "execution_count": 0,
      "outputs": []
    },
    {
      "cell_type": "code",
      "metadata": {
        "id": "8onJZkjsTqxY",
        "colab_type": "code",
        "outputId": "e526c700-2b32-4390-baf1-4182519531b1",
        "colab": {
          "base_uri": "https://localhost:8080/",
          "height": 438
        }
      },
      "source": [
        "df1980.boxplot('Global_Sales', by='Year_of_Release', figsize=(10,6))"
      ],
      "execution_count": 0,
      "outputs": [
        {
          "output_type": "execute_result",
          "data": {
            "text/plain": [
              "<matplotlib.axes._subplots.AxesSubplot at 0x7f8b720ba898>"
            ]
          },
          "metadata": {
            "tags": []
          },
          "execution_count": 12
        },
        {
          "output_type": "display_data",
          "data": {
            "image/png": "[encoded data removed]",
            "text/plain": [
              "<Figure size 720x432 with 1 Axes>"
            ]
          },
          "metadata": {
            "tags": [],
            "needs_background": "light"
          }
        }
      ]
    },
    {
      "cell_type": "code",
      "metadata": {
        "id": "JRDvxMZJT_wu",
        "colab_type": "code",
        "outputId": "08485cb8-cec1-4a00-ac0f-12acce77ee6d",
        "colab": {
          "base_uri": "https://localhost:8080/",
          "height": 441
        }
      },
      "source": [
        "plt.figure(figsize=(10,6))\n",
        "sns.countplot(x='Global_Sales', data=df1980, order=df1980['Global_Sales'].value_counts().index)\n",
        "plt.title=('# of games logged by 5 year period')\n",
        "plt.tight_layout()\n",
        "plt.show()"
      ],
      "execution_count": 0,
      "outputs": [
        {
          "output_type": "display_data",
          "data": {
            "image/png": "[encoded data removed]",
            "text/plain": [
              "<Figure size 720x432 with 1 Axes>"
            ]
          },
          "metadata": {
            "tags": [],
            "needs_background": "light"
          }
        }
      ]
    },
    {
      "cell_type": "code",
      "metadata": {
        "id": "vL2HtCpRUQED",
        "colab_type": "code",
        "outputId": "35fa0671-1a95-446a-dd14-5fd60cdffb0a",
        "colab": {
          "base_uri": "https://localhost:8080/",
          "height": 302
        }
      },
      "source": [
        "plt.hist(df1980['Global_Sales'])\n",
        "stats.describe(df1980['Global_Sales'])"
      ],
      "execution_count": 0,
      "outputs": [
        {
          "output_type": "execute_result",
          "data": {
            "text/plain": [
              "DescribeResult(nobs=82, minmax=(0.13, 0.97), mean=0.4540243902439025, variance=0.0454564438422162, skewness=0.5250540667390836, kurtosis=-0.7305281487658171)"
            ]
          },
          "metadata": {
            "tags": []
          },
          "execution_count": 14
        },
        {
          "output_type": "display_data",
          "data": {
            "image/png": "[encoded data removed]",
            "text/plain": [
              "<Figure size 432x288 with 1 Axes>"
            ]
          },
          "metadata": {
            "tags": [],
            "needs_background": "light"
          }
        }
      ]
    },
    {
      "cell_type": "code",
      "metadata": {
        "id": "yygqvCm7Uv97",
        "colab_type": "code",
        "outputId": "a9fda640-1325-4a96-ccce-21c26437b23e",
        "colab": {
          "base_uri": "https://localhost:8080/",
          "height": 54
        }
      },
      "source": [
        "stats.describe(dff4['Global_Sales'])\n",
        "\n",
        "#global sales as a whole is still exhibiting too much skewness, however only 1980-1984 is normal"
      ],
      "execution_count": 0,
      "outputs": [
        {
          "output_type": "execute_result",
          "data": {
            "text/plain": [
              "DescribeResult(nobs=8216, minmax=(0.11, 1.0), mean=0.34978091528724436, variance=0.05011832083353829, skewness=1.0574809475041764, kurtosis=0.2339639665489237)"
            ]
          },
          "metadata": {
            "tags": []
          },
          "execution_count": 27
        }
      ]
    },
    {
      "cell_type": "code",
      "metadata": {
        "id": "Mw012KFyUzdw",
        "colab_type": "code",
        "outputId": "61988622-ff95-4b4b-c27d-2d2e156eb61b",
        "colab": {
          "base_uri": "https://localhost:8080/",
          "height": 323
        }
      },
      "source": [
        "#ANALYSIS OF GENRE BY SALES IN REGIONS\n",
        "df.isnull().sum()"
      ],
      "execution_count": 0,
      "outputs": [
        {
          "output_type": "execute_result",
          "data": {
            "text/plain": [
              "Name                   2\n",
              "Platform               0\n",
              "Year_of_Release      269\n",
              "Genre                  2\n",
              "Publisher             54\n",
              "NA_Sales               0\n",
              "EU_Sales               0\n",
              "JP_Sales               0\n",
              "Other_Sales            0\n",
              "Global_Sales           0\n",
              "Critic_Score        8582\n",
              "Critic_Count        8582\n",
              "User_Score          6704\n",
              "User_Count          9129\n",
              "Developer           6623\n",
              "Rating              6769\n",
              "five_year_period     273\n",
              "dtype: int64"
            ]
          },
          "metadata": {
            "tags": []
          },
          "execution_count": 49
        }
      ]
    },
    {
      "cell_type": "code",
      "metadata": {
        "id": "HI5bGSzRfli1",
        "colab_type": "code",
        "colab": {}
      },
      "source": [
        "nogull = df[df['Genre'].notna()]"
      ],
      "execution_count": 0,
      "outputs": []
    },
    {
      "cell_type": "code",
      "metadata": {
        "id": "fpMeeJlbfyVo",
        "colab_type": "code",
        "outputId": "9d92ce3a-8720-48bc-ba97-2db63b6e8a21",
        "colab": {
          "base_uri": "https://localhost:8080/",
          "height": 323
        }
      },
      "source": [
        "nogull.isnull().sum()"
      ],
      "execution_count": 0,
      "outputs": [
        {
          "output_type": "execute_result",
          "data": {
            "text/plain": [
              "Name                   0\n",
              "Platform               0\n",
              "Year_of_Release      269\n",
              "Genre                  0\n",
              "Publisher             54\n",
              "NA_Sales               0\n",
              "EU_Sales               0\n",
              "JP_Sales               0\n",
              "Other_Sales            0\n",
              "Global_Sales           0\n",
              "Critic_Score        8580\n",
              "Critic_Count        8580\n",
              "User_Score          6702\n",
              "User_Count          9127\n",
              "Developer           6621\n",
              "Rating              6767\n",
              "five_year_period     273\n",
              "dtype: int64"
            ]
          },
          "metadata": {
            "tags": []
          },
          "execution_count": 17
        }
      ]
    },
    {
      "cell_type": "code",
      "metadata": {
        "id": "Izf07hiLf6rh",
        "colab_type": "code",
        "outputId": "815385d0-e41d-465d-86c7-7db0ccb8a08e",
        "colab": {
          "base_uri": "https://localhost:8080/",
          "height": 731
        }
      },
      "source": [
        "noyear = nogull[nogull['five_year_period'].notna()]\n",
        "regionsales = noyear[((noyear['Global_Sales'] <= 1.0) & (noyear['Global_Sales'] > .10))]\n",
        "regionsales.info()\n",
        "regionsales.isnull().sum()"
      ],
      "execution_count": 0,
      "outputs": [
        {
          "output_type": "stream",
          "text": [
            "<class 'pandas.core.frame.DataFrame'>\n",
            "Int64Index: 8215 entries, 2057 to 10411\n",
            "Data columns (total 17 columns):\n",
            " #   Column            Non-Null Count  Dtype   \n",
            "---  ------            --------------  -----   \n",
            " 0   Name              8215 non-null   object  \n",
            " 1   Platform          8215 non-null   object  \n",
            " 2   Year_of_Release   8215 non-null   float64 \n",
            " 3   Genre             8215 non-null   object  \n",
            " 4   Publisher         8192 non-null   object  \n",
            " 5   NA_Sales          8215 non-null   float64 \n",
            " 6   EU_Sales          8215 non-null   float64 \n",
            " 7   JP_Sales          8215 non-null   float64 \n",
            " 8   Other_Sales       8215 non-null   float64 \n",
            " 9   Global_Sales      8215 non-null   float64 \n",
            " 10  Critic_Score      4463 non-null   float64 \n",
            " 11  Critic_Count      4463 non-null   float64 \n",
            " 12  User_Score        5416 non-null   object  \n",
            " 13  User_Count        4262 non-null   float64 \n",
            " 14  Developer         5430 non-null   object  \n",
            " 15  Rating            5394 non-null   object  \n",
            " 16  five_year_period  8215 non-null   category\n",
            "dtypes: category(1), float64(9), object(7)\n",
            "memory usage: 1.1+ MB\n"
          ],
          "name": "stdout"
        },
        {
          "output_type": "execute_result",
          "data": {
            "text/plain": [
              "Name                   0\n",
              "Platform               0\n",
              "Year_of_Release        0\n",
              "Genre                  0\n",
              "Publisher             23\n",
              "NA_Sales               0\n",
              "EU_Sales               0\n",
              "JP_Sales               0\n",
              "Other_Sales            0\n",
              "Global_Sales           0\n",
              "Critic_Score        3752\n",
              "Critic_Count        3752\n",
              "User_Score          2799\n",
              "User_Count          3953\n",
              "Developer           2785\n",
              "Rating              2821\n",
              "five_year_period       0\n",
              "dtype: int64"
            ]
          },
          "metadata": {
            "tags": []
          },
          "execution_count": 18
        }
      ]
    },
    {
      "cell_type": "code",
      "metadata": {
        "id": "cdEISuTBrcVT",
        "colab_type": "code",
        "outputId": "c3f14b9d-93cb-4b36-85e2-9bb658d12cb8",
        "colab": {
          "base_uri": "https://localhost:8080/",
          "height": 425
        }
      },
      "source": [
        "print(regionsales['NA_Sales'].unique())\n",
        "print(regionsales['EU_Sales'].unique())\n",
        "print(regionsales['JP_Sales'].unique())\n",
        "print(regionsales['Other_Sales'].unique())"
      ],
      "execution_count": 0,
      "outputs": [
        {
          "output_type": "stream",
          "text": [
            "[0.49 0.29 0.93 0.41 0.3  0.65 0.63 0.   0.78 0.13 0.08 0.56 0.55 0.33\n",
            " 0.74 0.72 0.94 0.77 0.48 0.27 0.73 0.76 0.35 0.28 0.37 0.64 0.61 0.16\n",
            " 0.52 0.02 0.58 0.23 0.5  0.62 0.86 0.38 0.53 0.57 0.88 0.85 0.89 0.09\n",
            " 0.47 0.4  0.59 0.9  0.75 0.54 0.22 0.36 0.44 0.32 0.25 0.26 0.8  0.46\n",
            " 0.84 0.67 0.39 0.03 0.24 0.68 0.79 0.01 0.69 0.34 0.7  0.1  0.19 0.51\n",
            " 0.87 0.81 0.71 0.45 0.42 0.17 0.83 0.43 0.12 0.6  0.66 0.82 0.18 0.21\n",
            " 0.15 0.2  0.11 0.14 0.31 0.06 0.07 0.05 0.04]\n",
            "[0.38 0.19 0.   0.35 0.24 0.14 0.25 0.15 0.1  0.18 0.76 0.9  0.49 0.21\n",
            " 0.17 0.2  0.06 0.33 0.23 0.52 0.04 0.3  0.27 0.29 0.78 0.53 0.31 0.32\n",
            " 0.64 0.88 0.13 0.03 0.5  0.26 0.02 0.93 0.01 0.37 0.6  0.44 0.34 0.05\n",
            " 0.62 0.41 0.36 0.22 0.81 0.4  0.28 0.56 0.43 0.54 0.45 0.46 0.71 0.16\n",
            " 0.39 0.07 0.09 0.08 0.42 0.57 0.51 0.83 0.8  0.11 0.68 0.47 0.79 0.59\n",
            " 0.12 0.72 0.65 0.58 0.77 0.48 0.66 0.67 0.55 0.69]\n",
            "[0.   0.46 0.03 0.38 0.21 0.09 0.19 0.47 1.   0.02 0.74 0.01 0.41 0.04\n",
            " 0.64 0.12 0.15 0.45 0.28 0.05 0.29 0.86 0.97 0.26 0.96 0.9  0.57 0.22\n",
            " 0.06 0.34 0.13 0.53 0.51 0.2  0.71 0.63 0.36 0.42 0.32 0.27 0.93 0.39\n",
            " 0.43 0.18 0.66 0.3  0.16 0.91 0.11 0.08 0.55 0.24 0.89 0.56 0.87 0.62\n",
            " 0.37 0.14 0.52 0.4  0.83 0.1  0.81 0.76 0.07 0.75 0.8  0.23 0.79 0.78\n",
            " 0.77 0.17 0.25 0.72 0.73 0.67 0.7  0.61 0.44 0.5  0.58 0.69 0.33 0.31\n",
            " 0.65 0.59 0.6  0.54 0.35 0.48 0.49]\n",
            "[0.13 0.07 0.21 0.08 0.   0.03 0.01 0.02 0.09 0.17 0.04 0.1  0.06 0.05\n",
            " 0.15 0.19 0.11 0.25 0.14 0.16 0.12 0.22 0.18 0.2  0.5  0.23 0.53 0.74\n",
            " 0.61 0.36 0.54 0.26 0.41 0.6  0.44 0.34 0.57 0.29 0.33 0.38 0.48 0.39\n",
            " 0.24 0.27 0.28]\n"
          ],
          "name": "stdout"
        }
      ]
    },
    {
      "cell_type": "code",
      "metadata": {
        "id": "aKAAf8PCqfhi",
        "colab_type": "code",
        "outputId": "f6d9c432-04a4-4139-fc93-674171d34065",
        "colab": {
          "base_uri": "https://localhost:8080/",
          "height": 456
        }
      },
      "source": [
        "regionsales['NA_Sales'].hist(by=regionsales['five_year_period'])"
      ],
      "execution_count": 0,
      "outputs": [
        {
          "output_type": "execute_result",
          "data": {
            "text/plain": [
              "array([[<matplotlib.axes._subplots.AxesSubplot object at 0x7f8b71e254e0>,\n",
              "        <matplotlib.axes._subplots.AxesSubplot object at 0x7f8b71d87198>,\n",
              "        <matplotlib.axes._subplots.AxesSubplot object at 0x7f8b71d35518>],\n",
              "       [<matplotlib.axes._subplots.AxesSubplot object at 0x7f8b71ce3898>,\n",
              "        <matplotlib.axes._subplots.AxesSubplot object at 0x7f8b71d13c18>,\n",
              "        <matplotlib.axes._subplots.AxesSubplot object at 0x7f8b71cc3f98>],\n",
              "       [<matplotlib.axes._subplots.AxesSubplot object at 0x7f8b71c80358>,\n",
              "        <matplotlib.axes._subplots.AxesSubplot object at 0x7f8b71c2e6a0>,\n",
              "        <matplotlib.axes._subplots.AxesSubplot object at 0x7f8b71c2e710>]],\n",
              "      dtype=object)"
            ]
          },
          "metadata": {
            "tags": []
          },
          "execution_count": 20
        },
        {
          "output_type": "display_data",
          "data": {
            "image/png": "[encoded data removed]",
            "text/plain": [
              "<Figure size 432x288 with 9 Axes>"
            ]
          },
          "metadata": {
            "tags": [],
            "needs_background": "light"
          }
        }
      ]
    },
    {
      "cell_type": "code",
      "metadata": {
        "id": "iDusAyCxq5B4",
        "colab_type": "code",
        "outputId": "5fbbec78-06f0-4653-c39d-bb40d45dc336",
        "colab": {
          "base_uri": "https://localhost:8080/",
          "height": 462
        }
      },
      "source": [
        "regionsales['EU_Sales'].hist(by=regionsales['five_year_period'])"
      ],
      "execution_count": 0,
      "outputs": [
        {
          "output_type": "execute_result",
          "data": {
            "text/plain": [
              "array([[<matplotlib.axes._subplots.AxesSubplot object at 0x7f8b71ea4e48>,\n",
              "        <matplotlib.axes._subplots.AxesSubplot object at 0x7f8b71e9cfd0>,\n",
              "        <matplotlib.axes._subplots.AxesSubplot object at 0x7f8b75100d68>],\n",
              "       [<matplotlib.axes._subplots.AxesSubplot object at 0x7f8b75205518>,\n",
              "        <matplotlib.axes._subplots.AxesSubplot object at 0x7f8b71ec6518>,\n",
              "        <matplotlib.axes._subplots.AxesSubplot object at 0x7f8b71f59780>],\n",
              "       [<matplotlib.axes._subplots.AxesSubplot object at 0x7f8b71f17908>,\n",
              "        <matplotlib.axes._subplots.AxesSubplot object at 0x7f8b71fbbc18>,\n",
              "        <matplotlib.axes._subplots.AxesSubplot object at 0x7f8b71fbbc88>]],\n",
              "      dtype=object)"
            ]
          },
          "metadata": {
            "tags": []
          },
          "execution_count": 21
        },
        {
          "output_type": "display_data",
          "data": {
            "image/png": "[encoded data removed]",
            "text/plain": [
              "<Figure size 432x288 with 9 Axes>"
            ]
          },
          "metadata": {
            "tags": [],
            "needs_background": "light"
          }
        }
      ]
    },
    {
      "cell_type": "code",
      "metadata": {
        "id": "p_Q_k0nUrtpA",
        "colab_type": "code",
        "outputId": "7ab5a88d-54c9-42ef-cdf8-6934e3027d72",
        "colab": {
          "base_uri": "https://localhost:8080/",
          "height": 456
        }
      },
      "source": [
        "regionsales['JP_Sales'].hist(by=regionsales['five_year_period'])"
      ],
      "execution_count": 0,
      "outputs": [
        {
          "output_type": "execute_result",
          "data": {
            "text/plain": [
              "array([[<matplotlib.axes._subplots.AxesSubplot object at 0x7f8b719d4f98>,\n",
              "        <matplotlib.axes._subplots.AxesSubplot object at 0x7f8b719612b0>,\n",
              "        <matplotlib.axes._subplots.AxesSubplot object at 0x7f8b71988630>],\n",
              "       [<matplotlib.axes._subplots.AxesSubplot object at 0x7f8b719399b0>,\n",
              "        <matplotlib.axes._subplots.AxesSubplot object at 0x7f8b718ebd30>,\n",
              "        <matplotlib.axes._subplots.AxesSubplot object at 0x7f8b718ab0f0>],\n",
              "       [<matplotlib.axes._subplots.AxesSubplot object at 0x7f8b7185a470>,\n",
              "        <matplotlib.axes._subplots.AxesSubplot object at 0x7f8b7188d7b8>,\n",
              "        <matplotlib.axes._subplots.AxesSubplot object at 0x7f8b7188d828>]],\n",
              "      dtype=object)"
            ]
          },
          "metadata": {
            "tags": []
          },
          "execution_count": 22
        },
        {
          "output_type": "display_data",
          "data": {
            "image/png": "[encoded data removed]",
            "text/plain": [
              "<Figure size 432x288 with 9 Axes>"
            ]
          },
          "metadata": {
            "tags": [],
            "needs_background": "light"
          }
        }
      ]
    },
    {
      "cell_type": "code",
      "metadata": {
        "id": "4-Jl07cSru_D",
        "colab_type": "code",
        "outputId": "e5009876-8422-4a1e-94f0-b43846f46a3f",
        "colab": {
          "base_uri": "https://localhost:8080/",
          "height": 456
        }
      },
      "source": [
        "regionsales['Other_Sales'].hist(by=regionsales['five_year_period'])"
      ],
      "execution_count": 0,
      "outputs": [
        {
          "output_type": "execute_result",
          "data": {
            "text/plain": [
              "array([[<matplotlib.axes._subplots.AxesSubplot object at 0x7f8b716c96a0>,\n",
              "        <matplotlib.axes._subplots.AxesSubplot object at 0x7f8b7167a278>,\n",
              "        <matplotlib.axes._subplots.AxesSubplot object at 0x7f8b716225f8>],\n",
              "       [<matplotlib.axes._subplots.AxesSubplot object at 0x7f8b71654978>,\n",
              "        <matplotlib.axes._subplots.AxesSubplot object at 0x7f8b71604cf8>,\n",
              "        <matplotlib.axes._subplots.AxesSubplot object at 0x7f8b715c40b8>],\n",
              "       [<matplotlib.axes._subplots.AxesSubplot object at 0x7f8b721c3b70>,\n",
              "        <matplotlib.axes._subplots.AxesSubplot object at 0x7f8b750df9e8>,\n",
              "        <matplotlib.axes._subplots.AxesSubplot object at 0x7f8b750df9b0>]],\n",
              "      dtype=object)"
            ]
          },
          "metadata": {
            "tags": []
          },
          "execution_count": 23
        },
        {
          "output_type": "display_data",
          "data": {
            "image/png": "[encoded data removed]",
            "text/plain": [
              "<Figure size 432x288 with 9 Axes>"
            ]
          },
          "metadata": {
            "tags": [],
            "needs_background": "light"
          }
        }
      ]
    },
    {
      "cell_type": "code",
      "metadata": {
        "id": "Es53QaNGrwu5",
        "colab_type": "code",
        "outputId": "389884f1-9133-4e93-c109-71d174d204bc",
        "colab": {
          "base_uri": "https://localhost:8080/",
          "height": 105
        }
      },
      "source": [
        "print(stats.describe(regionsales['NA_Sales']))\n",
        "print(stats.describe(regionsales['JP_Sales']))\n",
        "print(stats.describe(regionsales['EU_Sales']))\n",
        "print(stats.describe(regionsales['Other_Sales']))"
      ],
      "execution_count": 0,
      "outputs": [
        {
          "output_type": "stream",
          "text": [
            "DescribeResult(nobs=8215, minmax=(0.0, 0.94), mean=0.17758855751673766, variance=0.02535426458782647, skewness=1.3309458858257817, kurtosis=2.0056191825439402)\n",
            "DescribeResult(nobs=8215, minmax=(0.0, 1.0), mean=0.0575362142422398, variance=0.01593076856297333, skewness=3.010335232592764, kurtosis=10.74335902006008)\n",
            "DescribeResult(nobs=8215, minmax=(0.0, 0.93), mean=0.08508338405356057, variance=0.011232690270504423, skewness=2.1243552766847476, kurtosis=6.617447075403744)\n",
            "DescribeResult(nobs=8215, minmax=(0.0, 0.74), mean=0.029474132684114432, variance=0.001578272248988967, skewness=5.057346803162371, kurtosis=50.404173957359646)\n"
          ],
          "name": "stdout"
        }
      ]
    },
    {
      "cell_type": "code",
      "metadata": {
        "id": "UvMhxobYKyzZ",
        "colab_type": "code",
        "outputId": "18002e3e-097a-46eb-9fe6-6d798f23acb0",
        "colab": {
          "base_uri": "https://localhost:8080/",
          "height": 34
        }
      },
      "source": [
        "stats.kruskal(regionsales['NA_Sales'], regionsales['JP_Sales'], regionsales['EU_Sales'], regionsales['Other_Sales'])"
      ],
      "execution_count": 0,
      "outputs": [
        {
          "output_type": "execute_result",
          "data": {
            "text/plain": [
              "KruskalResult(statistic=7273.619145402728, pvalue=0.0)"
            ]
          },
          "metadata": {
            "tags": []
          },
          "execution_count": 26
        }
      ]
    },
    {
      "cell_type": "code",
      "metadata": {
        "id": "2lH7wXd-LioB",
        "colab_type": "code",
        "colab": {}
      },
      "source": [
        "regionsales['NA_Sales'].hist()"
      ],
      "execution_count": 0,
      "outputs": []
    }
  ]
}